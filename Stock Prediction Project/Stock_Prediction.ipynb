{
 "cells": [
  {
   "cell_type": "markdown",
   "metadata": {
    "id": "M4K-zRmg0tvo"
   },
   "source": [
    "# Stock Prediction Project"
   ]
  },
  {
   "cell_type": "code",
   "execution_count": 1,
   "metadata": {
    "colab": {
     "base_uri": "https://localhost:8080/"
    },
    "id": "kPont1z-0tvo",
    "outputId": "ce89d3d2-1309-4e0a-f043-f4d44ad199e4"
   },
   "outputs": [
    {
     "name": "stdout",
     "output_type": "stream",
     "text": [
      "--2020-12-08 04:27:59--  https://raw.githubusercontent.com/udacity/deep-learning-v2-pytorch/master/intro-to-pytorch/helper.py\n",
      "Resolving raw.githubusercontent.com (raw.githubusercontent.com)... 151.101.0.133, 151.101.64.133, 151.101.128.133, ...\n",
      "Connecting to raw.githubusercontent.com (raw.githubusercontent.com)|151.101.0.133|:443... connected.\n",
      "HTTP request sent, awaiting response... 416 Range Not Satisfiable\n",
      "\n",
      "    The file is already fully retrieved; nothing to do.\n",
      "\n"
     ]
    }
   ],
   "source": [
    "!wget -c https://raw.githubusercontent.com/udacity/deep-learning-v2-pytorch/master/intro-to-pytorch/helper.py\n",
    "\n",
    "from __future__ import print_function\n",
    "import tensorflow as tf\n",
    "\n",
    "\n",
    "from tensorflow.keras.callbacks import ModelCheckpoint, LambdaCallback\n",
    "\n",
    "from tensorflow.keras.models import Sequential\n",
    "from tensorflow.keras.layers import Dense, Conv1D, Conv2D, Dropout, Masking,LSTM, MaxPooling2D\n",
    "from tensorflow.keras.optimizers import RMSprop\n",
    "from tensorflow.keras.utils import get_file\n",
    "import matplotlib.pyplot as plt\n",
    "import seaborn as sns\n",
    "import numpy as np\n",
    "import random\n",
    "import sys\n",
    "import io\n",
    "import datetime\n",
    "import os\n",
    "import pandas as pd\n",
    "from sklearn.model_selection import train_test_split\n",
    "\n",
    "from tensorflow.keras.utils import plot_model\n",
    "import IPython"
   ]
  },
  {
   "cell_type": "code",
   "execution_count": 2,
   "metadata": {
    "id": "lPwZTj7K0tvp"
   },
   "outputs": [],
   "source": [
    "from IPython.core.interactiveshell import InteractiveShell\n",
    "InteractiveShell.ast_node_interactivity = \"all\"\n",
    "\n",
    "# Reload all modules imported with %aimport\n",
    "%load_ext autoreload\n",
    "%autoreload 1\n"
   ]
  },
  {
   "cell_type": "code",
   "execution_count": 3,
   "metadata": {
    "colab": {
     "base_uri": "https://localhost:8080/"
    },
    "id": "emIRyNLbdnmH",
    "outputId": "9cf5bb0b-9753-49f6-c788-6ebe2173a5eb"
   },
   "outputs": [
    {
     "name": "stdout",
     "output_type": "stream",
     "text": [
      "Drive already mounted at /content/gdrive; to attempt to forcibly remount, call drive.mount(\"/content/gdrive\", force_remount=True).\n"
     ]
    }
   ],
   "source": [
    "from google.colab import drive\n",
    "drive.mount('/content/gdrive')"
   ]
  },
  {
   "cell_type": "markdown",
   "metadata": {
    "id": "08655V1263K0"
   },
   "source": [
    "# Baseline Model\n",
    "\n",
    "- In this model, we will only use the return of AAPL to predict the next element of a sequence to get an intuition of the project.\n",
    "- Returns are calculated on adjusted return, since there were several split for Apple stock, which may not be goof for predicting.\n",
    "- Performance measure in this model is mean square error.\n"
   ]
  },
  {
   "cell_type": "markdown",
   "metadata": {
    "id": "V_Qnt8tp0tvp"
   },
   "source": [
    "## Step A: Get the Data"
   ]
  },
  {
   "cell_type": "code",
   "execution_count": 4,
   "metadata": {
    "colab": {
     "base_uri": "https://localhost:8080/"
    },
    "id": "SvhS3ZUw0tvp",
    "outputId": "f1d4945b-531b-4b34-bf6b-a5514d7fb5b7"
   },
   "outputs": [
    {
     "name": "stdout",
     "output_type": "stream",
     "text": [
      "Date shape:  (4277, 10)\n"
     ]
    }
   ],
   "source": [
    "# Data directory\n",
    "data=pd.read_csv('gdrive/My Drive/Data/train/AAPL.csv')\n",
    "#Add return column to the data sets\n",
    "data[\"Return\"]=data[\"Adj Close\"].pct_change()\n",
    "\n",
    "n_samples, n_attrs = data.shape\n",
    "print(\"Date shape: \", data.shape)"
   ]
  },
  {
   "cell_type": "code",
   "execution_count": 5,
   "metadata": {
    "colab": {
     "base_uri": "https://localhost:8080/",
     "height": 419
    },
    "id": "XQ343U9L0tvq",
    "outputId": "1424d4b2-9545-4de6-dae8-c728d1940ed5"
   },
   "outputs": [
    {
     "data": {
      "text/html": [
       "<div>\n",
       "<style scoped>\n",
       "    .dataframe tbody tr th:only-of-type {\n",
       "        vertical-align: middle;\n",
       "    }\n",
       "\n",
       "    .dataframe tbody tr th {\n",
       "        vertical-align: top;\n",
       "    }\n",
       "\n",
       "    .dataframe thead th {\n",
       "        text-align: right;\n",
       "    }\n",
       "</style>\n",
       "<table border=\"1\" class=\"dataframe\">\n",
       "  <thead>\n",
       "    <tr style=\"text-align: right;\">\n",
       "      <th></th>\n",
       "      <th>Dt</th>\n",
       "      <th>Adj Close</th>\n",
       "      <th>Close</th>\n",
       "      <th>Div</th>\n",
       "      <th>Factor</th>\n",
       "      <th>High</th>\n",
       "      <th>Low</th>\n",
       "      <th>Open</th>\n",
       "      <th>Volume</th>\n",
       "      <th>Return</th>\n",
       "    </tr>\n",
       "  </thead>\n",
       "  <tbody>\n",
       "    <tr>\n",
       "      <th>0</th>\n",
       "      <td>2000-01-03</td>\n",
       "      <td>3.4785</td>\n",
       "      <td>111.938</td>\n",
       "      <td>0.0</td>\n",
       "      <td>1.0</td>\n",
       "      <td>112.5000</td>\n",
       "      <td>101.688</td>\n",
       "      <td>104.8750</td>\n",
       "      <td>133949200.0</td>\n",
       "      <td>NaN</td>\n",
       "    </tr>\n",
       "    <tr>\n",
       "      <th>1</th>\n",
       "      <td>2000-01-04</td>\n",
       "      <td>3.1852</td>\n",
       "      <td>102.500</td>\n",
       "      <td>0.0</td>\n",
       "      <td>1.0</td>\n",
       "      <td>110.6250</td>\n",
       "      <td>101.188</td>\n",
       "      <td>108.2500</td>\n",
       "      <td>128094400.0</td>\n",
       "      <td>-0.084318</td>\n",
       "    </tr>\n",
       "    <tr>\n",
       "      <th>2</th>\n",
       "      <td>2000-01-05</td>\n",
       "      <td>3.2318</td>\n",
       "      <td>104.000</td>\n",
       "      <td>0.0</td>\n",
       "      <td>1.0</td>\n",
       "      <td>110.5630</td>\n",
       "      <td>103.000</td>\n",
       "      <td>103.7500</td>\n",
       "      <td>194580400.0</td>\n",
       "      <td>0.014630</td>\n",
       "    </tr>\n",
       "    <tr>\n",
       "      <th>3</th>\n",
       "      <td>2000-01-06</td>\n",
       "      <td>2.9521</td>\n",
       "      <td>95.000</td>\n",
       "      <td>0.0</td>\n",
       "      <td>1.0</td>\n",
       "      <td>107.0000</td>\n",
       "      <td>95.000</td>\n",
       "      <td>106.1183</td>\n",
       "      <td>191993200.0</td>\n",
       "      <td>-0.086546</td>\n",
       "    </tr>\n",
       "    <tr>\n",
       "      <th>4</th>\n",
       "      <td>2000-01-07</td>\n",
       "      <td>3.0920</td>\n",
       "      <td>99.500</td>\n",
       "      <td>0.0</td>\n",
       "      <td>1.0</td>\n",
       "      <td>101.0000</td>\n",
       "      <td>95.500</td>\n",
       "      <td>96.5000</td>\n",
       "      <td>115183600.0</td>\n",
       "      <td>0.047390</td>\n",
       "    </tr>\n",
       "    <tr>\n",
       "      <th>...</th>\n",
       "      <td>...</td>\n",
       "      <td>...</td>\n",
       "      <td>...</td>\n",
       "      <td>...</td>\n",
       "      <td>...</td>\n",
       "      <td>...</td>\n",
       "      <td>...</td>\n",
       "      <td>...</td>\n",
       "      <td>...</td>\n",
       "      <td>...</td>\n",
       "    </tr>\n",
       "    <tr>\n",
       "      <th>4272</th>\n",
       "      <td>2016-12-23</td>\n",
       "      <td>111.3073</td>\n",
       "      <td>116.520</td>\n",
       "      <td>0.0</td>\n",
       "      <td>1.0</td>\n",
       "      <td>116.5255</td>\n",
       "      <td>115.590</td>\n",
       "      <td>115.5900</td>\n",
       "      <td>14249500.0</td>\n",
       "      <td>0.001978</td>\n",
       "    </tr>\n",
       "    <tr>\n",
       "      <th>4273</th>\n",
       "      <td>2016-12-27</td>\n",
       "      <td>112.0142</td>\n",
       "      <td>117.260</td>\n",
       "      <td>0.0</td>\n",
       "      <td>1.0</td>\n",
       "      <td>117.8000</td>\n",
       "      <td>116.490</td>\n",
       "      <td>116.5200</td>\n",
       "      <td>18296900.0</td>\n",
       "      <td>0.006351</td>\n",
       "    </tr>\n",
       "    <tr>\n",
       "      <th>4274</th>\n",
       "      <td>2016-12-28</td>\n",
       "      <td>111.5366</td>\n",
       "      <td>116.760</td>\n",
       "      <td>0.0</td>\n",
       "      <td>1.0</td>\n",
       "      <td>118.0170</td>\n",
       "      <td>116.200</td>\n",
       "      <td>117.5200</td>\n",
       "      <td>20905900.0</td>\n",
       "      <td>-0.004264</td>\n",
       "    </tr>\n",
       "    <tr>\n",
       "      <th>4275</th>\n",
       "      <td>2016-12-29</td>\n",
       "      <td>111.5079</td>\n",
       "      <td>116.730</td>\n",
       "      <td>0.0</td>\n",
       "      <td>1.0</td>\n",
       "      <td>117.1094</td>\n",
       "      <td>116.400</td>\n",
       "      <td>116.4500</td>\n",
       "      <td>15039500.0</td>\n",
       "      <td>-0.000257</td>\n",
       "    </tr>\n",
       "    <tr>\n",
       "      <th>4276</th>\n",
       "      <td>2016-12-30</td>\n",
       "      <td>110.6386</td>\n",
       "      <td>115.820</td>\n",
       "      <td>0.0</td>\n",
       "      <td>1.0</td>\n",
       "      <td>117.2000</td>\n",
       "      <td>115.430</td>\n",
       "      <td>116.6577</td>\n",
       "      <td>30586300.0</td>\n",
       "      <td>-0.007796</td>\n",
       "    </tr>\n",
       "  </tbody>\n",
       "</table>\n",
       "<p>4277 rows × 10 columns</p>\n",
       "</div>"
      ],
      "text/plain": [
       "              Dt  Adj Close    Close  ...      Open       Volume    Return\n",
       "0     2000-01-03     3.4785  111.938  ...  104.8750  133949200.0       NaN\n",
       "1     2000-01-04     3.1852  102.500  ...  108.2500  128094400.0 -0.084318\n",
       "2     2000-01-05     3.2318  104.000  ...  103.7500  194580400.0  0.014630\n",
       "3     2000-01-06     2.9521   95.000  ...  106.1183  191993200.0 -0.086546\n",
       "4     2000-01-07     3.0920   99.500  ...   96.5000  115183600.0  0.047390\n",
       "...          ...        ...      ...  ...       ...          ...       ...\n",
       "4272  2016-12-23   111.3073  116.520  ...  115.5900   14249500.0  0.001978\n",
       "4273  2016-12-27   112.0142  117.260  ...  116.5200   18296900.0  0.006351\n",
       "4274  2016-12-28   111.5366  116.760  ...  117.5200   20905900.0 -0.004264\n",
       "4275  2016-12-29   111.5079  116.730  ...  116.4500   15039500.0 -0.000257\n",
       "4276  2016-12-30   110.6386  115.820  ...  116.6577   30586300.0 -0.007796\n",
       "\n",
       "[4277 rows x 10 columns]"
      ]
     },
     "execution_count": 5,
     "metadata": {
      "tags": []
     },
     "output_type": "execute_result"
    }
   ],
   "source": [
    "data"
   ]
  },
  {
   "cell_type": "code",
   "execution_count": 6,
   "metadata": {
    "colab": {
     "base_uri": "https://localhost:8080/"
    },
    "id": "ejdxlP3G0tvt",
    "outputId": "ff6b4bc7-3aee-4c02-a593-9f006dfd48d4"
   },
   "outputs": [
    {
     "name": "stdout",
     "output_type": "stream",
     "text": [
      "<class 'pandas.core.frame.DataFrame'>\n",
      "RangeIndex: 4277 entries, 0 to 4276\n",
      "Data columns (total 10 columns):\n",
      " #   Column     Non-Null Count  Dtype  \n",
      "---  ------     --------------  -----  \n",
      " 0   Dt         4277 non-null   object \n",
      " 1   Adj Close  4277 non-null   float64\n",
      " 2   Close      4277 non-null   float64\n",
      " 3   Div        4277 non-null   float64\n",
      " 4   Factor     4277 non-null   float64\n",
      " 5   High       4277 non-null   float64\n",
      " 6   Low        4277 non-null   float64\n",
      " 7   Open       4277 non-null   float64\n",
      " 8   Volume     4277 non-null   float64\n",
      " 9   Return     4276 non-null   float64\n",
      "dtypes: float64(9), object(1)\n",
      "memory usage: 334.3+ KB\n"
     ]
    }
   ],
   "source": [
    "data.info()"
   ]
  },
  {
   "cell_type": "code",
   "execution_count": 7,
   "metadata": {
    "id": "w3SbzjOE0tvt"
   },
   "outputs": [],
   "source": [
    "#Set train and test data\n",
    "\n",
    "train_data=np.array(data['Return'].iloc[1:3000])\n",
    "train_data_mean=train_data.mean()\n",
    "train_data_std=train_data.std()\n",
    "train_data=(train_data-train_data_mean)/train_data_std # Scale the train data sets\n",
    "X_train=[]\n",
    "y_train=[]\n",
    "\n",
    "#Get the X_train y_train, using 300 previous data to predict the next data\n",
    "for i in range(300, len(train_data)):\n",
    "    X_train.append(train_data[i-300:i])\n",
    "    y_train.append(train_data[i])\n",
    "\n",
    "test_data=np.array(data['Return'].iloc[3000:])\n",
    "test_data=(test_data-train_data_mean)/train_data_std # Scale the test data sets as same as train data\n",
    "X_test=[]\n",
    "y_test=[]\n",
    "\n",
    "#Get the X_test y_test\n",
    "for i in range(300, len(test_data)):\n",
    "    X_test.append(test_data[i-300:i])\n",
    "    y_test.append(test_data[i])"
   ]
  },
  {
   "cell_type": "code",
   "execution_count": 8,
   "metadata": {
    "colab": {
     "base_uri": "https://localhost:8080/"
    },
    "id": "7ye-SxXy0tvt",
    "outputId": "0bf5d983-9952-4138-852f-67c620e88cf6"
   },
   "outputs": [
    {
     "data": {
      "text/plain": [
       "((2699, 300, 1), (977, 300, 1))"
      ]
     },
     "execution_count": 8,
     "metadata": {
      "tags": []
     },
     "output_type": "execute_result"
    },
    {
     "data": {
      "text/plain": [
       "((2699,), (977,))"
      ]
     },
     "execution_count": 8,
     "metadata": {
      "tags": []
     },
     "output_type": "execute_result"
    }
   ],
   "source": [
    "X_train, y_train = np.array(X_train),  np.array(y_train)\n",
    "X_test, y_test =  np.array(X_test),   np.array(y_test)\n",
    "X_train = np.reshape(X_train, (X_train.shape[0], X_train.shape[1], 1))\n",
    "X_test = np.reshape(X_test, (X_test.shape[0], X_test.shape[1], 1 ))\n",
    "X_train.shape, X_test.shape\n",
    "y_train.shape, y_test.shape\n",
    "#There are 2699 examples in train data and 977 in test data, each example has a shape of (300,1)"
   ]
  },
  {
   "cell_type": "markdown",
   "metadata": {
    "id": "aSeNomPW0tvu"
   },
   "source": [
    "## Step B: EDA\n",
    "\n",
    "### Visualization"
   ]
  },
  {
   "cell_type": "code",
   "execution_count": 9,
   "metadata": {
    "colab": {
     "base_uri": "https://localhost:8080/",
     "height": 526
    },
    "id": "Kho7KlOX0tvv",
    "outputId": "ae3f0d24-9b8f-4c88-8b30-9e462eebe96f"
   },
   "outputs": [
    {
     "data": {
      "text/plain": [
       "<Figure size 864x432 with 0 Axes>"
      ]
     },
     "execution_count": 9,
     "metadata": {
      "tags": []
     },
     "output_type": "execute_result"
    },
    {
     "data": {
      "text/plain": [
       "<matplotlib.axes._subplots.AxesSubplot at 0x7f5c02043668>"
      ]
     },
     "execution_count": 9,
     "metadata": {
      "tags": []
     },
     "output_type": "execute_result"
    },
    {
     "name": "stderr",
     "output_type": "stream",
     "text": [
      "/usr/local/lib/python3.6/dist-packages/seaborn/distributions.py:2551: FutureWarning: `distplot` is a deprecated function and will be removed in a future version. Please adapt your code to use either `displot` (a figure-level function with similar flexibility) or `histplot` (an axes-level function for histograms).\n",
      "  warnings.warn(msg, FutureWarning)\n"
     ]
    },
    {
     "data": {
      "text/plain": [
       "<matplotlib.axes._subplots.AxesSubplot at 0x7f5c02043668>"
      ]
     },
     "execution_count": 9,
     "metadata": {
      "tags": []
     },
     "output_type": "execute_result"
    },
    {
     "data": {
      "text/plain": [
       "Text(0.5, 1.0, 'Distribution for AAPL Returns')"
      ]
     },
     "execution_count": 9,
     "metadata": {
      "tags": []
     },
     "output_type": "execute_result"
    },
    {
     "data": {
      "text/plain": [
       "<matplotlib.axes._subplots.AxesSubplot at 0x7f5c03322d68>"
      ]
     },
     "execution_count": 9,
     "metadata": {
      "tags": []
     },
     "output_type": "execute_result"
    },
    {
     "data": {
      "text/plain": [
       "[<matplotlib.lines.Line2D at 0x7f5c01e829b0>]"
      ]
     },
     "execution_count": 9,
     "metadata": {
      "tags": []
     },
     "output_type": "execute_result"
    },
    {
     "data": {
      "text/plain": [
       "Text(0.5, 1.0, 'AAPL Return')"
      ]
     },
     "execution_count": 9,
     "metadata": {
      "tags": []
     },
     "output_type": "execute_result"
    },
    {
     "data": {
      "image/png": "[encoded data removed]",
      "text/plain": [
       "<Figure size 864x432 with 2 Axes>"
      ]
     },
     "metadata": {
      "needs_background": "light",
      "tags": []
     },
     "output_type": "display_data"
    }
   ],
   "source": [
    "# Return visualization\n",
    "plt.figure(figsize=(12, 6))\n",
    "plt.subplot(1,2,1)\n",
    "sns.distplot(data['Return'].dropna(), hist=True, kde=True, bins=100, color='blue')\n",
    "plt.title('Distribution for AAPL Returns')\n",
    "\n",
    "plt.subplot(1,2,2)\n",
    "plt.plot(data['Return'])\n",
    "plt.title('AAPL Return')"
   ]
  },
  {
   "cell_type": "code",
   "execution_count": 10,
   "metadata": {
    "colab": {
     "base_uri": "https://localhost:8080/",
     "height": 298
    },
    "id": "ZG2ynU6Z0tvv",
    "outputId": "2ba9eeae-299f-425f-bd0c-e8545db53beb"
   },
   "outputs": [
    {
     "data": {
      "text/plain": [
       "<matplotlib.axes._subplots.AxesSubplot at 0x7f5c01de5d68>"
      ]
     },
     "execution_count": 10,
     "metadata": {
      "tags": []
     },
     "output_type": "execute_result"
    },
    {
     "data": {
      "text/plain": [
       "Text(0.5, 1.0, 'AAPL Volume')"
      ]
     },
     "execution_count": 10,
     "metadata": {
      "tags": []
     },
     "output_type": "execute_result"
    },
    {
     "data": {
      "image/png": "[encoded data removed]",
      "text/plain": [
       "<Figure size 432x288 with 1 Axes>"
      ]
     },
     "metadata": {
      "needs_background": "light",
      "tags": []
     },
     "output_type": "display_data"
    }
   ],
   "source": [
    "# Volume visualization\n",
    "data['Volume'].plot()\n",
    "plt.title('AAPL Volume')"
   ]
  },
  {
   "cell_type": "code",
   "execution_count": 11,
   "metadata": {
    "colab": {
     "base_uri": "https://localhost:8080/",
     "height": 298
    },
    "id": "m8H5fQAN0tvv",
    "outputId": "e6fc6f61-4e2b-4313-cf21-9e71b65fe697"
   },
   "outputs": [
    {
     "data": {
      "text/plain": [
       "<matplotlib.axes._subplots.AxesSubplot at 0x7f5c018d85f8>"
      ]
     },
     "execution_count": 11,
     "metadata": {
      "tags": []
     },
     "output_type": "execute_result"
    },
    {
     "data": {
      "text/plain": [
       "Text(0.5, 1.0, 'AAPL Close')"
      ]
     },
     "execution_count": 11,
     "metadata": {
      "tags": []
     },
     "output_type": "execute_result"
    },
    {
     "data": {
      "image/png": "[encoded data removed]",
      "text/plain": [
       "<Figure size 432x288 with 1 Axes>"
      ]
     },
     "metadata": {
      "needs_background": "light",
      "tags": []
     },
     "output_type": "display_data"
    }
   ],
   "source": [
    "# Close visualization\n",
    "data['Close'].plot()\n",
    "plt.title('AAPL Close')"
   ]
  },
  {
   "cell_type": "code",
   "execution_count": 12,
   "metadata": {
    "colab": {
     "base_uri": "https://localhost:8080/",
     "height": 298
    },
    "id": "1QPeWI9F0tvv",
    "outputId": "ea80383b-0b26-4aa9-e1cc-8a454366e38b"
   },
   "outputs": [
    {
     "data": {
      "text/plain": [
       "<matplotlib.axes._subplots.AxesSubplot at 0x7f5c0183f438>"
      ]
     },
     "execution_count": 12,
     "metadata": {
      "tags": []
     },
     "output_type": "execute_result"
    },
    {
     "data": {
      "text/plain": [
       "Text(0.5, 1.0, 'AAPL Adj Close')"
      ]
     },
     "execution_count": 12,
     "metadata": {
      "tags": []
     },
     "output_type": "execute_result"
    },
    {
     "data": {
      "image/png": "[encoded data removed]",
      "text/plain": [
       "<Figure size 432x288 with 1 Axes>"
      ]
     },
     "metadata": {
      "needs_background": "light",
      "tags": []
     },
     "output_type": "display_data"
    }
   ],
   "source": [
    "# Adj Close visualization\n",
    "data['Adj Close'].plot()\n",
    "plt.title('AAPL Adj Close')"
   ]
  },
  {
   "cell_type": "markdown",
   "metadata": {
    "id": "I2h23lhx0tvz"
   },
   "source": [
    "## Step C: Prepare the data\n",
    "\n",
    "Data was already scaled, and the data was prepared in train and test split section.\n",
    "\n"
   ]
  },
  {
   "cell_type": "markdown",
   "metadata": {
    "id": "ovdULxygxLTH"
   },
   "source": [
    "## Step D: Modelling"
   ]
  },
  {
   "cell_type": "code",
   "execution_count": 13,
   "metadata": {
    "id": "KhIkpffa6gpr"
   },
   "outputs": [],
   "source": [
    "%load_ext tensorboard\n",
    "\n",
    "import datetime\n",
    "\n",
    "import os\n",
    "\n",
    "logs_dir=\"logs/fit/\"\n",
    "os.makedirs( \".\", exist_ok=True)\n",
    "\n",
    "from tensorflow.keras.callbacks import EarlyStopping, ModelCheckpoint\n",
    "log_dir= os.path.join(logs_dir, datetime.datetime.now().strftime(\"%Y%m%d-%H%M%S\") )\n",
    "\n",
    "tensorboard_callback = tf.keras.callbacks.TensorBoard(log_dir=log_dir, histogram_freq=1)\n",
    "\n",
    "callbacks = tf.keras.callbacks.EarlyStopping(monitor='val_loss', min_delta=.00005, patience=2, verbose=0, mode='auto', baseline=None, restore_best_weights=True)\n"
   ]
  },
  {
   "cell_type": "code",
   "execution_count": 14,
   "metadata": {
    "colab": {
     "base_uri": "https://localhost:8080/"
    },
    "id": "53EJeUoT0tvz",
    "outputId": "70910174-3cd3-441a-a4aa-6798e41da633"
   },
   "outputs": [
    {
     "name": "stdout",
     "output_type": "stream",
     "text": [
      "Epoch 1/10\n",
      "44/44 [==============================] - 1s 29ms/step - loss: 0.7625 - val_loss: 0.7923\n",
      "Epoch 2/10\n",
      "44/44 [==============================] - 1s 18ms/step - loss: 0.7563 - val_loss: 0.8078\n",
      "Epoch 3/10\n",
      "44/44 [==============================] - 1s 18ms/step - loss: 0.7576 - val_loss: 0.7970\n"
     ]
    },
    {
     "data": {
      "text/plain": [
       "<tensorflow.python.keras.callbacks.History at 0x7f5ba443a748>"
      ]
     },
     "execution_count": 14,
     "metadata": {
      "tags": []
     },
     "output_type": "execute_result"
    }
   ],
   "source": [
    "#Construct baselne model using cnn, lstm and dense layers\n",
    "def baselinemodel():\n",
    "  model = Sequential()\n",
    "  model.add(Conv1D(16, 3,padding='same', input_shape=(X_train.shape[1], 1,)))\n",
    "  model.add(LSTM(10, activation='tanh', return_sequences=False))\n",
    "  model.add(Dense(1,activation='tanh'))\n",
    "  model.add(Dropout(0.2)) #Drop 0.2 of the data to prevent from overfitting\n",
    "  return(model)\n",
    "\n",
    "#Split the validation data\n",
    "def valsplit(X,y):\n",
    "  X_train_, X_val, y_train_, y_val = train_test_split(X, y, test_size=0.20, random_state=42)\n",
    "  return(X_train_, X_val, y_train_, y_val)\n",
    "\n",
    "X_train_, X_val, y_train_, y_val=valsplit(X_train, y_train)\n",
    "model=baselinemodel()\n",
    "model.compile(optimizer=RMSprop(lr=0.01), loss='mean_squared_error')\n",
    "\n",
    "#Train the model\n",
    "model.fit(X_train_, y_train_, batch_size=50, epochs=10, validation_data=(X_val, y_val),callbacks=[callbacks])"
   ]
  },
  {
   "cell_type": "code",
   "execution_count": 15,
   "metadata": {
    "colab": {
     "base_uri": "https://localhost:8080/"
    },
    "id": "-dhghOom0tvz",
    "outputId": "1c312dd1-76ba-4a01-a6df-895ae1612b2b"
   },
   "outputs": [
    {
     "name": "stdout",
     "output_type": "stream",
     "text": [
      "31/31 [==============================] - 0s 8ms/step - loss: 0.2569\n"
     ]
    },
    {
     "data": {
      "text/plain": [
       "0.2568640112876892"
      ]
     },
     "execution_count": 15,
     "metadata": {
      "tags": []
     },
     "output_type": "execute_result"
    }
   ],
   "source": [
    "#Out of sample test\n",
    "model.evaluate(X_test,y_test)"
   ]
  },
  {
   "cell_type": "code",
   "execution_count": 16,
   "metadata": {
    "id": "-s0n4Tal8D-6"
   },
   "outputs": [],
   "source": [
    "predictions = model.predict(X_test)\n",
    "predictions=predictions.reshape(977)"
   ]
  },
  {
   "cell_type": "code",
   "execution_count": 17,
   "metadata": {
    "id": "95xRMZ6W82NQ"
   },
   "outputs": [],
   "source": [
    "test=data.iloc[3300:].loc[:].copy()\n",
    "test['Return']=(test['Return']-train_data_mean)/train_data_std\n",
    "test['Pred']=predictions"
   ]
  },
  {
   "cell_type": "code",
   "execution_count": 18,
   "metadata": {
    "colab": {
     "base_uri": "https://localhost:8080/",
     "height": 349
    },
    "id": "TrXM9K_29vrg",
    "outputId": "afe468a3-8eb7-44b2-a957-ec57216913b7"
   },
   "outputs": [
    {
     "data": {
      "text/plain": [
       "<Figure size 864x288 with 0 Axes>"
      ]
     },
     "execution_count": 18,
     "metadata": {
      "tags": []
     },
     "output_type": "execute_result"
    },
    {
     "data": {
      "text/plain": [
       "<matplotlib.axes._subplots.AxesSubplot at 0x7f5b905e1320>"
      ]
     },
     "execution_count": 18,
     "metadata": {
      "tags": []
     },
     "output_type": "execute_result"
    },
    {
     "data": {
      "text/plain": [
       "[<matplotlib.lines.Line2D at 0x7f5b906a3b00>]"
      ]
     },
     "execution_count": 18,
     "metadata": {
      "tags": []
     },
     "output_type": "execute_result"
    },
    {
     "data": {
      "text/plain": [
       "Text(0.5, 1.0, 'True value for return')"
      ]
     },
     "execution_count": 18,
     "metadata": {
      "tags": []
     },
     "output_type": "execute_result"
    },
    {
     "data": {
      "text/plain": [
       "<matplotlib.axes._subplots.AxesSubplot at 0x7f5b9065d128>"
      ]
     },
     "execution_count": 18,
     "metadata": {
      "tags": []
     },
     "output_type": "execute_result"
    },
    {
     "data": {
      "text/plain": [
       "[<matplotlib.lines.Line2D at 0x7f5b905f1208>]"
      ]
     },
     "execution_count": 18,
     "metadata": {
      "tags": []
     },
     "output_type": "execute_result"
    },
    {
     "data": {
      "text/plain": [
       "Text(0.5, 1.0, 'Predicted value for return')"
      ]
     },
     "execution_count": 18,
     "metadata": {
      "tags": []
     },
     "output_type": "execute_result"
    },
    {
     "data": {
      "image/png": "[encoded data removed]",
      "text/plain": [
       "<Figure size 864x288 with 2 Axes>"
      ]
     },
     "metadata": {
      "needs_background": "light",
      "tags": []
     },
     "output_type": "display_data"
    }
   ],
   "source": [
    "#Plot the true value and the predicted value\n",
    "plt.figure(figsize=(12, 4))\n",
    "plt.subplot(1,2,1)\n",
    "plt.plot(test['Return'])\n",
    "plt.title('True value for return')\n",
    "plt.subplot(1,2,2)\n",
    "plt.plot(test['Pred'])\n",
    "plt.title('Predicted value for return')"
   ]
  },
  {
   "cell_type": "markdown",
   "metadata": {
    "id": "wlFzC_nJC8lf"
   },
   "source": [
    "### Results\n",
    "- The out of sample loss is 0.2581, which is smaller than in sample loss."
   ]
  },
  {
   "cell_type": "markdown",
   "metadata": {
    "id": "DV-FOz-ssmsS"
   },
   "source": [
    "### Error Analysis\n",
    "\n",
    "- Found that comparing the line chart of true values and predicted values directly was hard, since they ocilliate a lot.\n",
    "- Instead of only use return to predict return, we can add the other features, such as open, high, low, volume, and from different stocks and indexes.\n",
    "- Since X and y are from the same datasets in this model, scaling both causing the prediction values and the y_test to be normalized, which thus cannot show the true values of return.\n",
    "- The model is hardly learning, with the loss falling by a little.\n"
   ]
  },
  {
   "cell_type": "markdown",
   "metadata": {
    "id": "fLOZ8C3FAPvr"
   },
   "source": [
    "# Model\n",
    "\n",
    "In this model\n",
    "\n",
    "- Add more features to predict return.\n",
    "- Using all the previous data to predict the next return, instead of only use the previous 300 data.\n",
    "- Change the model slightly to see the results.\n",
    "\n"
   ]
  },
  {
   "cell_type": "markdown",
   "metadata": {
    "id": "aD6oXnFIVc2Y"
   },
   "source": [
    "## Step A: Get the data\n",
    "\n",
    "- From the stocks given, I chose AAPL, FB, GOOG, INTC, MSFT and XLK, which are technology stocks and technology selected index, to predict the stock prices for AAPL.\n",
    "- Drop the Div and Factor column since technology companies usually do not distribute dividend, and Factor column is all zero for AAPL.\n",
    "\n"
   ]
  },
  {
   "cell_type": "code",
   "execution_count": 19,
   "metadata": {
    "id": "DNP2KQg2XQtk"
   },
   "outputs": [],
   "source": [
    "# Get data and drop div and factor\n",
    "tech_list=[\"AAPL\",\"FB\",\"GOOG\",\"INTC\",\"MSFT\",\"XLK\"]\n",
    "dateAttr='Dt'\n",
    "globals()[\"AAPL\"] = pd.read_csv('gdrive/My Drive/Data/train/AAPL.csv',index_col=dateAttr).drop(columns=['Div','Factor'])\n",
    "globals()[\"FB\"] = pd.read_csv('gdrive/My Drive/Data/train/FB.csv',index_col=dateAttr).drop(columns=['Div','Factor'])\n",
    "globals()[\"GOOG\"] = pd.read_csv('gdrive/My Drive/Data/train/GOOG.csv',index_col=dateAttr).drop(columns=['Div','Factor'])\n",
    "globals()[\"INTC\"] = pd.read_csv('gdrive/My Drive/Data/train/INTC.csv',index_col=dateAttr).drop(columns=['Div','Factor'])\n",
    "globals()[\"MSFT\"] = pd.read_csv('gdrive/My Drive/Data/train/MSFT.csv',index_col=dateAttr).drop(columns=['Div','Factor'])\n",
    "globals()[\"XLK\"] = pd.read_csv('gdrive/My Drive/Data/train/XLK.csv',index_col=dateAttr).drop(columns=['Div','Factor'])\n"
   ]
  },
  {
   "cell_type": "code",
   "execution_count": 20,
   "metadata": {
    "id": "PPse8pIbc8V-"
   },
   "outputs": [],
   "source": [
    "#Add company name, and get df which contains all the stock features\n",
    "company_list = [AAPL, FB, GOOG, INTC, MSFT, XLK]\n",
    "company_name = [\"AAPL\",\"FB\",\"GOOG\",\"INTC\",\"MSFT\",\"XLK\"]\n",
    "\n",
    "for company, com_name in zip(company_list, company_name):\n",
    "    company[\"company_name\"] = com_name\n",
    "    \n",
    "df = pd.concat(company_list, axis=1)"
   ]
  },
  {
   "cell_type": "code",
   "execution_count": 21,
   "metadata": {
    "colab": {
     "base_uri": "https://localhost:8080/",
     "height": 657
    },
    "id": "0N-qVDfVfybC",
    "outputId": "ef292141-ce10-4897-d504-f68dffa7d546"
   },
   "outputs": [
    {
     "data": {
      "text/html": [
       "<div>\n",
       "<style scoped>\n",
       "    .dataframe tbody tr th:only-of-type {\n",
       "        vertical-align: middle;\n",
       "    }\n",
       "\n",
       "    .dataframe tbody tr th {\n",
       "        vertical-align: top;\n",
       "    }\n",
       "\n",
       "    .dataframe thead th {\n",
       "        text-align: right;\n",
       "    }\n",
       "</style>\n",
       "<table border=\"1\" class=\"dataframe\">\n",
       "  <thead>\n",
       "    <tr style=\"text-align: right;\">\n",
       "      <th></th>\n",
       "      <th>Adj Close</th>\n",
       "      <th>Close</th>\n",
       "      <th>High</th>\n",
       "      <th>Low</th>\n",
       "      <th>Open</th>\n",
       "      <th>Volume</th>\n",
       "      <th>company_name</th>\n",
       "      <th>Adj Close</th>\n",
       "      <th>Close</th>\n",
       "      <th>High</th>\n",
       "      <th>Low</th>\n",
       "      <th>Open</th>\n",
       "      <th>Volume</th>\n",
       "      <th>company_name</th>\n",
       "      <th>Adj Close</th>\n",
       "      <th>Close</th>\n",
       "      <th>High</th>\n",
       "      <th>Low</th>\n",
       "      <th>Open</th>\n",
       "      <th>Volume</th>\n",
       "      <th>company_name</th>\n",
       "      <th>Adj Close</th>\n",
       "      <th>Close</th>\n",
       "      <th>High</th>\n",
       "      <th>Low</th>\n",
       "      <th>Open</th>\n",
       "      <th>Volume</th>\n",
       "      <th>company_name</th>\n",
       "      <th>Adj Close</th>\n",
       "      <th>Close</th>\n",
       "      <th>High</th>\n",
       "      <th>Low</th>\n",
       "      <th>Open</th>\n",
       "      <th>Volume</th>\n",
       "      <th>company_name</th>\n",
       "      <th>Adj Close</th>\n",
       "      <th>Close</th>\n",
       "      <th>High</th>\n",
       "      <th>Low</th>\n",
       "      <th>Open</th>\n",
       "      <th>Volume</th>\n",
       "      <th>company_name</th>\n",
       "    </tr>\n",
       "    <tr>\n",
       "      <th>Dt</th>\n",
       "      <th></th>\n",
       "      <th></th>\n",
       "      <th></th>\n",
       "      <th></th>\n",
       "      <th></th>\n",
       "      <th></th>\n",
       "      <th></th>\n",
       "      <th></th>\n",
       "      <th></th>\n",
       "      <th></th>\n",
       "      <th></th>\n",
       "      <th></th>\n",
       "      <th></th>\n",
       "      <th></th>\n",
       "      <th></th>\n",
       "      <th></th>\n",
       "      <th></th>\n",
       "      <th></th>\n",
       "      <th></th>\n",
       "      <th></th>\n",
       "      <th></th>\n",
       "      <th></th>\n",
       "      <th></th>\n",
       "      <th></th>\n",
       "      <th></th>\n",
       "      <th></th>\n",
       "      <th></th>\n",
       "      <th></th>\n",
       "      <th></th>\n",
       "      <th></th>\n",
       "      <th></th>\n",
       "      <th></th>\n",
       "      <th></th>\n",
       "      <th></th>\n",
       "      <th></th>\n",
       "      <th></th>\n",
       "      <th></th>\n",
       "      <th></th>\n",
       "      <th></th>\n",
       "      <th></th>\n",
       "      <th></th>\n",
       "      <th></th>\n",
       "    </tr>\n",
       "  </thead>\n",
       "  <tbody>\n",
       "    <tr>\n",
       "      <th>2000-01-03</th>\n",
       "      <td>3.4785</td>\n",
       "      <td>111.938</td>\n",
       "      <td>112.5000</td>\n",
       "      <td>101.688</td>\n",
       "      <td>104.8750</td>\n",
       "      <td>133949200.0</td>\n",
       "      <td>AAPL</td>\n",
       "      <td>NaN</td>\n",
       "      <td>NaN</td>\n",
       "      <td>NaN</td>\n",
       "      <td>NaN</td>\n",
       "      <td>NaN</td>\n",
       "      <td>NaN</td>\n",
       "      <td>FB</td>\n",
       "      <td>NaN</td>\n",
       "      <td>NaN</td>\n",
       "      <td>NaN</td>\n",
       "      <td>NaN</td>\n",
       "      <td>NaN</td>\n",
       "      <td>NaN</td>\n",
       "      <td>GOOG</td>\n",
       "      <td>28.0137</td>\n",
       "      <td>43.500</td>\n",
       "      <td>43.6880</td>\n",
       "      <td>41.625</td>\n",
       "      <td>41.633</td>\n",
       "      <td>57710200.0</td>\n",
       "      <td>INTC</td>\n",
       "      <td>37.6233</td>\n",
       "      <td>116.563</td>\n",
       "      <td>118.6250</td>\n",
       "      <td>112.000</td>\n",
       "      <td>117.375</td>\n",
       "      <td>53228400.0</td>\n",
       "      <td>MSFT</td>\n",
       "      <td>43.6306</td>\n",
       "      <td>55.438</td>\n",
       "      <td>55.625</td>\n",
       "      <td>53.5000</td>\n",
       "      <td>55.625</td>\n",
       "      <td>938100.0</td>\n",
       "      <td>XLK</td>\n",
       "    </tr>\n",
       "    <tr>\n",
       "      <th>2000-01-04</th>\n",
       "      <td>3.1852</td>\n",
       "      <td>102.500</td>\n",
       "      <td>110.6250</td>\n",
       "      <td>101.188</td>\n",
       "      <td>108.2500</td>\n",
       "      <td>128094400.0</td>\n",
       "      <td>AAPL</td>\n",
       "      <td>NaN</td>\n",
       "      <td>NaN</td>\n",
       "      <td>NaN</td>\n",
       "      <td>NaN</td>\n",
       "      <td>NaN</td>\n",
       "      <td>NaN</td>\n",
       "      <td>FB</td>\n",
       "      <td>NaN</td>\n",
       "      <td>NaN</td>\n",
       "      <td>NaN</td>\n",
       "      <td>NaN</td>\n",
       "      <td>NaN</td>\n",
       "      <td>NaN</td>\n",
       "      <td>GOOG</td>\n",
       "      <td>26.7056</td>\n",
       "      <td>41.469</td>\n",
       "      <td>43.9380</td>\n",
       "      <td>41.125</td>\n",
       "      <td>42.719</td>\n",
       "      <td>51019600.0</td>\n",
       "      <td>INTC</td>\n",
       "      <td>36.3524</td>\n",
       "      <td>112.625</td>\n",
       "      <td>117.1250</td>\n",
       "      <td>112.250</td>\n",
       "      <td>113.563</td>\n",
       "      <td>54119000.0</td>\n",
       "      <td>MSFT</td>\n",
       "      <td>41.4171</td>\n",
       "      <td>52.625</td>\n",
       "      <td>54.750</td>\n",
       "      <td>52.3130</td>\n",
       "      <td>54.000</td>\n",
       "      <td>545500.0</td>\n",
       "      <td>XLK</td>\n",
       "    </tr>\n",
       "    <tr>\n",
       "      <th>2000-01-05</th>\n",
       "      <td>3.2318</td>\n",
       "      <td>104.000</td>\n",
       "      <td>110.5630</td>\n",
       "      <td>103.000</td>\n",
       "      <td>103.7500</td>\n",
       "      <td>194580400.0</td>\n",
       "      <td>AAPL</td>\n",
       "      <td>NaN</td>\n",
       "      <td>NaN</td>\n",
       "      <td>NaN</td>\n",
       "      <td>NaN</td>\n",
       "      <td>NaN</td>\n",
       "      <td>NaN</td>\n",
       "      <td>FB</td>\n",
       "      <td>NaN</td>\n",
       "      <td>NaN</td>\n",
       "      <td>NaN</td>\n",
       "      <td>NaN</td>\n",
       "      <td>NaN</td>\n",
       "      <td>NaN</td>\n",
       "      <td>GOOG</td>\n",
       "      <td>26.9270</td>\n",
       "      <td>41.813</td>\n",
       "      <td>42.9345</td>\n",
       "      <td>40.250</td>\n",
       "      <td>41.500</td>\n",
       "      <td>52389000.0</td>\n",
       "      <td>INTC</td>\n",
       "      <td>36.7357</td>\n",
       "      <td>113.813</td>\n",
       "      <td>116.3750</td>\n",
       "      <td>109.375</td>\n",
       "      <td>111.125</td>\n",
       "      <td>64059600.0</td>\n",
       "      <td>MSFT</td>\n",
       "      <td>40.8022</td>\n",
       "      <td>51.844</td>\n",
       "      <td>53.063</td>\n",
       "      <td>50.1250</td>\n",
       "      <td>51.750</td>\n",
       "      <td>1906000.0</td>\n",
       "      <td>XLK</td>\n",
       "    </tr>\n",
       "    <tr>\n",
       "      <th>2000-01-06</th>\n",
       "      <td>2.9521</td>\n",
       "      <td>95.000</td>\n",
       "      <td>107.0000</td>\n",
       "      <td>95.000</td>\n",
       "      <td>106.1183</td>\n",
       "      <td>191993200.0</td>\n",
       "      <td>AAPL</td>\n",
       "      <td>NaN</td>\n",
       "      <td>NaN</td>\n",
       "      <td>NaN</td>\n",
       "      <td>NaN</td>\n",
       "      <td>NaN</td>\n",
       "      <td>NaN</td>\n",
       "      <td>FB</td>\n",
       "      <td>NaN</td>\n",
       "      <td>NaN</td>\n",
       "      <td>NaN</td>\n",
       "      <td>NaN</td>\n",
       "      <td>NaN</td>\n",
       "      <td>NaN</td>\n",
       "      <td>GOOG</td>\n",
       "      <td>25.3572</td>\n",
       "      <td>39.375</td>\n",
       "      <td>41.6880</td>\n",
       "      <td>39.094</td>\n",
       "      <td>40.875</td>\n",
       "      <td>55171200.0</td>\n",
       "      <td>INTC</td>\n",
       "      <td>35.5051</td>\n",
       "      <td>110.000</td>\n",
       "      <td>113.8750</td>\n",
       "      <td>108.375</td>\n",
       "      <td>112.188</td>\n",
       "      <td>54976600.0</td>\n",
       "      <td>MSFT</td>\n",
       "      <td>39.4496</td>\n",
       "      <td>50.125</td>\n",
       "      <td>52.094</td>\n",
       "      <td>49.6250</td>\n",
       "      <td>51.250</td>\n",
       "      <td>1670000.0</td>\n",
       "      <td>XLK</td>\n",
       "    </tr>\n",
       "    <tr>\n",
       "      <th>2000-01-07</th>\n",
       "      <td>3.0920</td>\n",
       "      <td>99.500</td>\n",
       "      <td>101.0000</td>\n",
       "      <td>95.500</td>\n",
       "      <td>96.5000</td>\n",
       "      <td>115183600.0</td>\n",
       "      <td>AAPL</td>\n",
       "      <td>NaN</td>\n",
       "      <td>NaN</td>\n",
       "      <td>NaN</td>\n",
       "      <td>NaN</td>\n",
       "      <td>NaN</td>\n",
       "      <td>NaN</td>\n",
       "      <td>FB</td>\n",
       "      <td>NaN</td>\n",
       "      <td>NaN</td>\n",
       "      <td>NaN</td>\n",
       "      <td>NaN</td>\n",
       "      <td>NaN</td>\n",
       "      <td>NaN</td>\n",
       "      <td>GOOG</td>\n",
       "      <td>26.4037</td>\n",
       "      <td>41.000</td>\n",
       "      <td>41.0000</td>\n",
       "      <td>38.688</td>\n",
       "      <td>38.750</td>\n",
       "      <td>41096400.0</td>\n",
       "      <td>INTC</td>\n",
       "      <td>35.9691</td>\n",
       "      <td>111.438</td>\n",
       "      <td>112.2500</td>\n",
       "      <td>107.313</td>\n",
       "      <td>108.625</td>\n",
       "      <td>62013600.0</td>\n",
       "      <td>MSFT</td>\n",
       "      <td>40.1382</td>\n",
       "      <td>51.000</td>\n",
       "      <td>51.000</td>\n",
       "      <td>49.1263</td>\n",
       "      <td>49.625</td>\n",
       "      <td>686000.0</td>\n",
       "      <td>XLK</td>\n",
       "    </tr>\n",
       "    <tr>\n",
       "      <th>...</th>\n",
       "      <td>...</td>\n",
       "      <td>...</td>\n",
       "      <td>...</td>\n",
       "      <td>...</td>\n",
       "      <td>...</td>\n",
       "      <td>...</td>\n",
       "      <td>...</td>\n",
       "      <td>...</td>\n",
       "      <td>...</td>\n",
       "      <td>...</td>\n",
       "      <td>...</td>\n",
       "      <td>...</td>\n",
       "      <td>...</td>\n",
       "      <td>...</td>\n",
       "      <td>...</td>\n",
       "      <td>...</td>\n",
       "      <td>...</td>\n",
       "      <td>...</td>\n",
       "      <td>...</td>\n",
       "      <td>...</td>\n",
       "      <td>...</td>\n",
       "      <td>...</td>\n",
       "      <td>...</td>\n",
       "      <td>...</td>\n",
       "      <td>...</td>\n",
       "      <td>...</td>\n",
       "      <td>...</td>\n",
       "      <td>...</td>\n",
       "      <td>...</td>\n",
       "      <td>...</td>\n",
       "      <td>...</td>\n",
       "      <td>...</td>\n",
       "      <td>...</td>\n",
       "      <td>...</td>\n",
       "      <td>...</td>\n",
       "      <td>...</td>\n",
       "      <td>...</td>\n",
       "      <td>...</td>\n",
       "      <td>...</td>\n",
       "      <td>...</td>\n",
       "      <td>...</td>\n",
       "      <td>...</td>\n",
       "    </tr>\n",
       "    <tr>\n",
       "      <th>2016-12-23</th>\n",
       "      <td>111.3073</td>\n",
       "      <td>116.520</td>\n",
       "      <td>116.5255</td>\n",
       "      <td>115.590</td>\n",
       "      <td>115.5900</td>\n",
       "      <td>14249500.0</td>\n",
       "      <td>AAPL</td>\n",
       "      <td>117.27</td>\n",
       "      <td>117.27</td>\n",
       "      <td>117.560</td>\n",
       "      <td>116.300</td>\n",
       "      <td>117.0000</td>\n",
       "      <td>10890000.0</td>\n",
       "      <td>FB</td>\n",
       "      <td>789.91</td>\n",
       "      <td>789.91</td>\n",
       "      <td>792.74</td>\n",
       "      <td>787.280</td>\n",
       "      <td>790.9000</td>\n",
       "      <td>623400.0</td>\n",
       "      <td>GOOG</td>\n",
       "      <td>34.2162</td>\n",
       "      <td>36.970</td>\n",
       "      <td>36.9800</td>\n",
       "      <td>36.770</td>\n",
       "      <td>36.930</td>\n",
       "      <td>6287300.0</td>\n",
       "      <td>INTC</td>\n",
       "      <td>60.1241</td>\n",
       "      <td>63.240</td>\n",
       "      <td>63.5400</td>\n",
       "      <td>62.800</td>\n",
       "      <td>63.450</td>\n",
       "      <td>12403800.0</td>\n",
       "      <td>MSFT</td>\n",
       "      <td>47.0785</td>\n",
       "      <td>48.970</td>\n",
       "      <td>48.980</td>\n",
       "      <td>48.7840</td>\n",
       "      <td>48.870</td>\n",
       "      <td>6358700.0</td>\n",
       "      <td>XLK</td>\n",
       "    </tr>\n",
       "    <tr>\n",
       "      <th>2016-12-27</th>\n",
       "      <td>112.0142</td>\n",
       "      <td>117.260</td>\n",
       "      <td>117.8000</td>\n",
       "      <td>116.490</td>\n",
       "      <td>116.5200</td>\n",
       "      <td>18296900.0</td>\n",
       "      <td>AAPL</td>\n",
       "      <td>118.01</td>\n",
       "      <td>118.01</td>\n",
       "      <td>118.680</td>\n",
       "      <td>116.864</td>\n",
       "      <td>116.9510</td>\n",
       "      <td>12051500.0</td>\n",
       "      <td>FB</td>\n",
       "      <td>791.55</td>\n",
       "      <td>791.55</td>\n",
       "      <td>797.86</td>\n",
       "      <td>787.657</td>\n",
       "      <td>790.6800</td>\n",
       "      <td>789100.0</td>\n",
       "      <td>GOOG</td>\n",
       "      <td>34.3088</td>\n",
       "      <td>37.070</td>\n",
       "      <td>37.3300</td>\n",
       "      <td>36.910</td>\n",
       "      <td>36.910</td>\n",
       "      <td>9033700.0</td>\n",
       "      <td>INTC</td>\n",
       "      <td>60.1621</td>\n",
       "      <td>63.280</td>\n",
       "      <td>64.0700</td>\n",
       "      <td>63.210</td>\n",
       "      <td>63.210</td>\n",
       "      <td>11763200.0</td>\n",
       "      <td>MSFT</td>\n",
       "      <td>47.2708</td>\n",
       "      <td>49.170</td>\n",
       "      <td>49.400</td>\n",
       "      <td>49.0000</td>\n",
       "      <td>49.020</td>\n",
       "      <td>6840700.0</td>\n",
       "      <td>XLK</td>\n",
       "    </tr>\n",
       "    <tr>\n",
       "      <th>2016-12-28</th>\n",
       "      <td>111.5366</td>\n",
       "      <td>116.760</td>\n",
       "      <td>118.0170</td>\n",
       "      <td>116.200</td>\n",
       "      <td>117.5200</td>\n",
       "      <td>20905900.0</td>\n",
       "      <td>AAPL</td>\n",
       "      <td>116.92</td>\n",
       "      <td>116.92</td>\n",
       "      <td>118.250</td>\n",
       "      <td>116.650</td>\n",
       "      <td>118.1956</td>\n",
       "      <td>12087400.0</td>\n",
       "      <td>FB</td>\n",
       "      <td>785.05</td>\n",
       "      <td>785.05</td>\n",
       "      <td>794.23</td>\n",
       "      <td>783.200</td>\n",
       "      <td>793.7000</td>\n",
       "      <td>1153800.0</td>\n",
       "      <td>GOOG</td>\n",
       "      <td>33.9015</td>\n",
       "      <td>36.630</td>\n",
       "      <td>37.2000</td>\n",
       "      <td>36.580</td>\n",
       "      <td>37.100</td>\n",
       "      <td>12868600.0</td>\n",
       "      <td>INTC</td>\n",
       "      <td>59.8864</td>\n",
       "      <td>62.990</td>\n",
       "      <td>63.4009</td>\n",
       "      <td>62.830</td>\n",
       "      <td>63.400</td>\n",
       "      <td>14653300.0</td>\n",
       "      <td>MSFT</td>\n",
       "      <td>46.8478</td>\n",
       "      <td>48.730</td>\n",
       "      <td>49.295</td>\n",
       "      <td>48.7100</td>\n",
       "      <td>49.230</td>\n",
       "      <td>7777600.0</td>\n",
       "      <td>XLK</td>\n",
       "    </tr>\n",
       "    <tr>\n",
       "      <th>2016-12-29</th>\n",
       "      <td>111.5079</td>\n",
       "      <td>116.730</td>\n",
       "      <td>117.1094</td>\n",
       "      <td>116.400</td>\n",
       "      <td>116.4500</td>\n",
       "      <td>15039500.0</td>\n",
       "      <td>AAPL</td>\n",
       "      <td>116.35</td>\n",
       "      <td>116.35</td>\n",
       "      <td>117.531</td>\n",
       "      <td>116.060</td>\n",
       "      <td>117.0000</td>\n",
       "      <td>9934900.0</td>\n",
       "      <td>FB</td>\n",
       "      <td>782.79</td>\n",
       "      <td>782.79</td>\n",
       "      <td>785.93</td>\n",
       "      <td>778.920</td>\n",
       "      <td>783.2909</td>\n",
       "      <td>744300.0</td>\n",
       "      <td>GOOG</td>\n",
       "      <td>33.9293</td>\n",
       "      <td>36.660</td>\n",
       "      <td>36.7200</td>\n",
       "      <td>36.430</td>\n",
       "      <td>36.510</td>\n",
       "      <td>8447300.0</td>\n",
       "      <td>INTC</td>\n",
       "      <td>59.8008</td>\n",
       "      <td>62.900</td>\n",
       "      <td>63.2000</td>\n",
       "      <td>62.730</td>\n",
       "      <td>62.860</td>\n",
       "      <td>10250600.0</td>\n",
       "      <td>MSFT</td>\n",
       "      <td>46.8574</td>\n",
       "      <td>48.740</td>\n",
       "      <td>48.865</td>\n",
       "      <td>48.6169</td>\n",
       "      <td>48.730</td>\n",
       "      <td>4796500.0</td>\n",
       "      <td>XLK</td>\n",
       "    </tr>\n",
       "    <tr>\n",
       "      <th>2016-12-30</th>\n",
       "      <td>110.6386</td>\n",
       "      <td>115.820</td>\n",
       "      <td>117.2000</td>\n",
       "      <td>115.430</td>\n",
       "      <td>116.6577</td>\n",
       "      <td>30586300.0</td>\n",
       "      <td>AAPL</td>\n",
       "      <td>115.05</td>\n",
       "      <td>115.05</td>\n",
       "      <td>116.830</td>\n",
       "      <td>114.774</td>\n",
       "      <td>116.5950</td>\n",
       "      <td>18684100.0</td>\n",
       "      <td>FB</td>\n",
       "      <td>771.82</td>\n",
       "      <td>771.82</td>\n",
       "      <td>782.78</td>\n",
       "      <td>770.410</td>\n",
       "      <td>782.7500</td>\n",
       "      <td>1770000.0</td>\n",
       "      <td>GOOG</td>\n",
       "      <td>33.5684</td>\n",
       "      <td>36.270</td>\n",
       "      <td>36.8000</td>\n",
       "      <td>36.200</td>\n",
       "      <td>36.790</td>\n",
       "      <td>17468000.0</td>\n",
       "      <td>INTC</td>\n",
       "      <td>59.0783</td>\n",
       "      <td>62.140</td>\n",
       "      <td>62.9900</td>\n",
       "      <td>62.030</td>\n",
       "      <td>62.960</td>\n",
       "      <td>25579900.0</td>\n",
       "      <td>MSFT</td>\n",
       "      <td>46.4920</td>\n",
       "      <td>48.360</td>\n",
       "      <td>48.850</td>\n",
       "      <td>48.2100</td>\n",
       "      <td>48.850</td>\n",
       "      <td>8501600.0</td>\n",
       "      <td>XLK</td>\n",
       "    </tr>\n",
       "  </tbody>\n",
       "</table>\n",
       "<p>4277 rows × 42 columns</p>\n",
       "</div>"
      ],
      "text/plain": [
       "            Adj Close    Close      High  ...    Open     Volume  company_name\n",
       "Dt                                        ...                                 \n",
       "2000-01-03     3.4785  111.938  112.5000  ...  55.625   938100.0           XLK\n",
       "2000-01-04     3.1852  102.500  110.6250  ...  54.000   545500.0           XLK\n",
       "2000-01-05     3.2318  104.000  110.5630  ...  51.750  1906000.0           XLK\n",
       "2000-01-06     2.9521   95.000  107.0000  ...  51.250  1670000.0           XLK\n",
       "2000-01-07     3.0920   99.500  101.0000  ...  49.625   686000.0           XLK\n",
       "...               ...      ...       ...  ...     ...        ...           ...\n",
       "2016-12-23   111.3073  116.520  116.5255  ...  48.870  6358700.0           XLK\n",
       "2016-12-27   112.0142  117.260  117.8000  ...  49.020  6840700.0           XLK\n",
       "2016-12-28   111.5366  116.760  118.0170  ...  49.230  7777600.0           XLK\n",
       "2016-12-29   111.5079  116.730  117.1094  ...  48.730  4796500.0           XLK\n",
       "2016-12-30   110.6386  115.820  117.2000  ...  48.850  8501600.0           XLK\n",
       "\n",
       "[4277 rows x 42 columns]"
      ]
     },
     "execution_count": 21,
     "metadata": {
      "tags": []
     },
     "output_type": "execute_result"
    }
   ],
   "source": [
    "# Have a look at the data\n",
    "df"
   ]
  },
  {
   "cell_type": "code",
   "execution_count": 22,
   "metadata": {
    "colab": {
     "base_uri": "https://localhost:8080/",
     "height": 708
    },
    "id": "9KfuILvfwrBU",
    "outputId": "97443046-5e1a-4fc3-ef18-fdb30f63f897"
   },
   "outputs": [
    {
     "data": {
      "text/html": [
       "<div>\n",
       "<style scoped>\n",
       "    .dataframe tbody tr th:only-of-type {\n",
       "        vertical-align: middle;\n",
       "    }\n",
       "\n",
       "    .dataframe tbody tr th {\n",
       "        vertical-align: top;\n",
       "    }\n",
       "\n",
       "    .dataframe thead th {\n",
       "        text-align: right;\n",
       "    }\n",
       "</style>\n",
       "<table border=\"1\" class=\"dataframe\">\n",
       "  <thead>\n",
       "    <tr style=\"text-align: right;\">\n",
       "      <th></th>\n",
       "      <th>Adj Close</th>\n",
       "      <th>Close</th>\n",
       "      <th>High</th>\n",
       "      <th>Low</th>\n",
       "      <th>Open</th>\n",
       "      <th>Volume</th>\n",
       "      <th>Adj Close</th>\n",
       "      <th>Close</th>\n",
       "      <th>High</th>\n",
       "      <th>Low</th>\n",
       "      <th>Open</th>\n",
       "      <th>Volume</th>\n",
       "      <th>Adj Close</th>\n",
       "      <th>Close</th>\n",
       "      <th>High</th>\n",
       "      <th>Low</th>\n",
       "      <th>Open</th>\n",
       "      <th>Volume</th>\n",
       "      <th>Adj Close</th>\n",
       "      <th>Close</th>\n",
       "      <th>High</th>\n",
       "      <th>Low</th>\n",
       "      <th>Open</th>\n",
       "      <th>Volume</th>\n",
       "      <th>Adj Close</th>\n",
       "      <th>Close</th>\n",
       "      <th>High</th>\n",
       "      <th>Low</th>\n",
       "      <th>Open</th>\n",
       "      <th>Volume</th>\n",
       "      <th>Adj Close</th>\n",
       "      <th>Close</th>\n",
       "      <th>High</th>\n",
       "      <th>Low</th>\n",
       "      <th>Open</th>\n",
       "      <th>Volume</th>\n",
       "    </tr>\n",
       "    <tr>\n",
       "      <th>Dt</th>\n",
       "      <th></th>\n",
       "      <th></th>\n",
       "      <th></th>\n",
       "      <th></th>\n",
       "      <th></th>\n",
       "      <th></th>\n",
       "      <th></th>\n",
       "      <th></th>\n",
       "      <th></th>\n",
       "      <th></th>\n",
       "      <th></th>\n",
       "      <th></th>\n",
       "      <th></th>\n",
       "      <th></th>\n",
       "      <th></th>\n",
       "      <th></th>\n",
       "      <th></th>\n",
       "      <th></th>\n",
       "      <th></th>\n",
       "      <th></th>\n",
       "      <th></th>\n",
       "      <th></th>\n",
       "      <th></th>\n",
       "      <th></th>\n",
       "      <th></th>\n",
       "      <th></th>\n",
       "      <th></th>\n",
       "      <th></th>\n",
       "      <th></th>\n",
       "      <th></th>\n",
       "      <th></th>\n",
       "      <th></th>\n",
       "      <th></th>\n",
       "      <th></th>\n",
       "      <th></th>\n",
       "      <th></th>\n",
       "    </tr>\n",
       "  </thead>\n",
       "  <tbody>\n",
       "    <tr>\n",
       "      <th>2012-05-18</th>\n",
       "      <td>65.9263</td>\n",
       "      <td>530.38</td>\n",
       "      <td>543.4100</td>\n",
       "      <td>522.18</td>\n",
       "      <td>533.9600</td>\n",
       "      <td>183073100.0</td>\n",
       "      <td>38.23</td>\n",
       "      <td>38.232</td>\n",
       "      <td>45.000</td>\n",
       "      <td>38.000</td>\n",
       "      <td>42.0500</td>\n",
       "      <td>573576400.0</td>\n",
       "      <td>299.0790</td>\n",
       "      <td>299.0790</td>\n",
       "      <td>315.0292</td>\n",
       "      <td>297.2359</td>\n",
       "      <td>311.3829</td>\n",
       "      <td>11991700.0</td>\n",
       "      <td>20.7380</td>\n",
       "      <td>26.07</td>\n",
       "      <td>26.5700</td>\n",
       "      <td>26.05</td>\n",
       "      <td>26.2400</td>\n",
       "      <td>43444900.0</td>\n",
       "      <td>24.5447</td>\n",
       "      <td>29.27</td>\n",
       "      <td>29.8100</td>\n",
       "      <td>29.17</td>\n",
       "      <td>29.7924</td>\n",
       "      <td>56205300.0</td>\n",
       "      <td>24.1967</td>\n",
       "      <td>27.47</td>\n",
       "      <td>27.930</td>\n",
       "      <td>27.4100</td>\n",
       "      <td>27.8390</td>\n",
       "      <td>12598100.0</td>\n",
       "    </tr>\n",
       "    <tr>\n",
       "      <th>2012-05-21</th>\n",
       "      <td>69.7672</td>\n",
       "      <td>561.28</td>\n",
       "      <td>561.5400</td>\n",
       "      <td>534.05</td>\n",
       "      <td>534.5000</td>\n",
       "      <td>157776500.0</td>\n",
       "      <td>34.03</td>\n",
       "      <td>34.030</td>\n",
       "      <td>36.660</td>\n",
       "      <td>33.000</td>\n",
       "      <td>36.5300</td>\n",
       "      <td>168192700.0</td>\n",
       "      <td>305.9084</td>\n",
       "      <td>305.9084</td>\n",
       "      <td>306.6954</td>\n",
       "      <td>298.8797</td>\n",
       "      <td>299.1338</td>\n",
       "      <td>6173800.0</td>\n",
       "      <td>20.8016</td>\n",
       "      <td>26.15</td>\n",
       "      <td>26.1900</td>\n",
       "      <td>25.68</td>\n",
       "      <td>26.0600</td>\n",
       "      <td>41389400.0</td>\n",
       "      <td>24.9472</td>\n",
       "      <td>29.75</td>\n",
       "      <td>29.7900</td>\n",
       "      <td>29.06</td>\n",
       "      <td>29.1000</td>\n",
       "      <td>38787900.0</td>\n",
       "      <td>24.7956</td>\n",
       "      <td>28.15</td>\n",
       "      <td>28.160</td>\n",
       "      <td>27.4700</td>\n",
       "      <td>27.5300</td>\n",
       "      <td>8552200.0</td>\n",
       "    </tr>\n",
       "    <tr>\n",
       "      <th>2012-05-22</th>\n",
       "      <td>69.2314</td>\n",
       "      <td>556.97</td>\n",
       "      <td>573.8800</td>\n",
       "      <td>552.58</td>\n",
       "      <td>569.5500</td>\n",
       "      <td>173717600.0</td>\n",
       "      <td>31.00</td>\n",
       "      <td>31.000</td>\n",
       "      <td>33.590</td>\n",
       "      <td>30.940</td>\n",
       "      <td>32.6100</td>\n",
       "      <td>101786600.0</td>\n",
       "      <td>299.2782</td>\n",
       "      <td>299.2782</td>\n",
       "      <td>305.7589</td>\n",
       "      <td>296.8872</td>\n",
       "      <td>305.5746</td>\n",
       "      <td>6126600.0</td>\n",
       "      <td>20.7062</td>\n",
       "      <td>26.03</td>\n",
       "      <td>26.2800</td>\n",
       "      <td>25.78</td>\n",
       "      <td>26.2688</td>\n",
       "      <td>46037700.0</td>\n",
       "      <td>24.9556</td>\n",
       "      <td>29.76</td>\n",
       "      <td>29.8800</td>\n",
       "      <td>29.50</td>\n",
       "      <td>29.6900</td>\n",
       "      <td>39504900.0</td>\n",
       "      <td>24.7164</td>\n",
       "      <td>28.06</td>\n",
       "      <td>28.315</td>\n",
       "      <td>27.9000</td>\n",
       "      <td>28.2400</td>\n",
       "      <td>7814300.0</td>\n",
       "    </tr>\n",
       "    <tr>\n",
       "      <th>2012-05-23</th>\n",
       "      <td>70.9207</td>\n",
       "      <td>570.56</td>\n",
       "      <td>572.8000</td>\n",
       "      <td>553.23</td>\n",
       "      <td>557.5000</td>\n",
       "      <td>146224400.0</td>\n",
       "      <td>32.00</td>\n",
       "      <td>32.000</td>\n",
       "      <td>32.500</td>\n",
       "      <td>31.360</td>\n",
       "      <td>31.3700</td>\n",
       "      <td>73600000.0</td>\n",
       "      <td>303.5921</td>\n",
       "      <td>303.5921</td>\n",
       "      <td>303.6618</td>\n",
       "      <td>297.4451</td>\n",
       "      <td>299.7016</td>\n",
       "      <td>6379900.0</td>\n",
       "      <td>20.2368</td>\n",
       "      <td>25.44</td>\n",
       "      <td>25.5111</td>\n",
       "      <td>24.92</td>\n",
       "      <td>25.4700</td>\n",
       "      <td>61969600.0</td>\n",
       "      <td>24.4105</td>\n",
       "      <td>29.11</td>\n",
       "      <td>29.4000</td>\n",
       "      <td>28.64</td>\n",
       "      <td>29.3500</td>\n",
       "      <td>65171000.0</td>\n",
       "      <td>24.7428</td>\n",
       "      <td>28.09</td>\n",
       "      <td>28.170</td>\n",
       "      <td>27.5895</td>\n",
       "      <td>27.8500</td>\n",
       "      <td>8718700.0</td>\n",
       "    </tr>\n",
       "    <tr>\n",
       "      <th>2012-05-24</th>\n",
       "      <td>70.2693</td>\n",
       "      <td>565.32</td>\n",
       "      <td>576.5069</td>\n",
       "      <td>561.23</td>\n",
       "      <td>575.8700</td>\n",
       "      <td>124057500.0</td>\n",
       "      <td>33.03</td>\n",
       "      <td>33.030</td>\n",
       "      <td>33.210</td>\n",
       "      <td>31.770</td>\n",
       "      <td>32.9500</td>\n",
       "      <td>50237200.0</td>\n",
       "      <td>300.7029</td>\n",
       "      <td>300.7029</td>\n",
       "      <td>304.8175</td>\n",
       "      <td>298.3168</td>\n",
       "      <td>303.4426</td>\n",
       "      <td>3796600.0</td>\n",
       "      <td>20.4039</td>\n",
       "      <td>25.65</td>\n",
       "      <td>25.7800</td>\n",
       "      <td>25.31</td>\n",
       "      <td>25.5700</td>\n",
       "      <td>37129200.0</td>\n",
       "      <td>24.3770</td>\n",
       "      <td>29.07</td>\n",
       "      <td>29.3000</td>\n",
       "      <td>28.76</td>\n",
       "      <td>29.1600</td>\n",
       "      <td>52575000.0</td>\n",
       "      <td>24.6019</td>\n",
       "      <td>27.93</td>\n",
       "      <td>28.180</td>\n",
       "      <td>27.7200</td>\n",
       "      <td>28.1687</td>\n",
       "      <td>8300400.0</td>\n",
       "    </tr>\n",
       "    <tr>\n",
       "      <th>...</th>\n",
       "      <td>...</td>\n",
       "      <td>...</td>\n",
       "      <td>...</td>\n",
       "      <td>...</td>\n",
       "      <td>...</td>\n",
       "      <td>...</td>\n",
       "      <td>...</td>\n",
       "      <td>...</td>\n",
       "      <td>...</td>\n",
       "      <td>...</td>\n",
       "      <td>...</td>\n",
       "      <td>...</td>\n",
       "      <td>...</td>\n",
       "      <td>...</td>\n",
       "      <td>...</td>\n",
       "      <td>...</td>\n",
       "      <td>...</td>\n",
       "      <td>...</td>\n",
       "      <td>...</td>\n",
       "      <td>...</td>\n",
       "      <td>...</td>\n",
       "      <td>...</td>\n",
       "      <td>...</td>\n",
       "      <td>...</td>\n",
       "      <td>...</td>\n",
       "      <td>...</td>\n",
       "      <td>...</td>\n",
       "      <td>...</td>\n",
       "      <td>...</td>\n",
       "      <td>...</td>\n",
       "      <td>...</td>\n",
       "      <td>...</td>\n",
       "      <td>...</td>\n",
       "      <td>...</td>\n",
       "      <td>...</td>\n",
       "      <td>...</td>\n",
       "    </tr>\n",
       "    <tr>\n",
       "      <th>2016-12-23</th>\n",
       "      <td>111.3073</td>\n",
       "      <td>116.52</td>\n",
       "      <td>116.5255</td>\n",
       "      <td>115.59</td>\n",
       "      <td>115.5900</td>\n",
       "      <td>14249500.0</td>\n",
       "      <td>117.27</td>\n",
       "      <td>117.270</td>\n",
       "      <td>117.560</td>\n",
       "      <td>116.300</td>\n",
       "      <td>117.0000</td>\n",
       "      <td>10890000.0</td>\n",
       "      <td>789.9100</td>\n",
       "      <td>789.9100</td>\n",
       "      <td>792.7400</td>\n",
       "      <td>787.2800</td>\n",
       "      <td>790.9000</td>\n",
       "      <td>623400.0</td>\n",
       "      <td>34.2162</td>\n",
       "      <td>36.97</td>\n",
       "      <td>36.9800</td>\n",
       "      <td>36.77</td>\n",
       "      <td>36.9300</td>\n",
       "      <td>6287300.0</td>\n",
       "      <td>60.1241</td>\n",
       "      <td>63.24</td>\n",
       "      <td>63.5400</td>\n",
       "      <td>62.80</td>\n",
       "      <td>63.4500</td>\n",
       "      <td>12403800.0</td>\n",
       "      <td>47.0785</td>\n",
       "      <td>48.97</td>\n",
       "      <td>48.980</td>\n",
       "      <td>48.7840</td>\n",
       "      <td>48.8700</td>\n",
       "      <td>6358700.0</td>\n",
       "    </tr>\n",
       "    <tr>\n",
       "      <th>2016-12-27</th>\n",
       "      <td>112.0142</td>\n",
       "      <td>117.26</td>\n",
       "      <td>117.8000</td>\n",
       "      <td>116.49</td>\n",
       "      <td>116.5200</td>\n",
       "      <td>18296900.0</td>\n",
       "      <td>118.01</td>\n",
       "      <td>118.010</td>\n",
       "      <td>118.680</td>\n",
       "      <td>116.864</td>\n",
       "      <td>116.9510</td>\n",
       "      <td>12051500.0</td>\n",
       "      <td>791.5500</td>\n",
       "      <td>791.5500</td>\n",
       "      <td>797.8600</td>\n",
       "      <td>787.6570</td>\n",
       "      <td>790.6800</td>\n",
       "      <td>789100.0</td>\n",
       "      <td>34.3088</td>\n",
       "      <td>37.07</td>\n",
       "      <td>37.3300</td>\n",
       "      <td>36.91</td>\n",
       "      <td>36.9100</td>\n",
       "      <td>9033700.0</td>\n",
       "      <td>60.1621</td>\n",
       "      <td>63.28</td>\n",
       "      <td>64.0700</td>\n",
       "      <td>63.21</td>\n",
       "      <td>63.2100</td>\n",
       "      <td>11763200.0</td>\n",
       "      <td>47.2708</td>\n",
       "      <td>49.17</td>\n",
       "      <td>49.400</td>\n",
       "      <td>49.0000</td>\n",
       "      <td>49.0200</td>\n",
       "      <td>6840700.0</td>\n",
       "    </tr>\n",
       "    <tr>\n",
       "      <th>2016-12-28</th>\n",
       "      <td>111.5366</td>\n",
       "      <td>116.76</td>\n",
       "      <td>118.0170</td>\n",
       "      <td>116.20</td>\n",
       "      <td>117.5200</td>\n",
       "      <td>20905900.0</td>\n",
       "      <td>116.92</td>\n",
       "      <td>116.920</td>\n",
       "      <td>118.250</td>\n",
       "      <td>116.650</td>\n",
       "      <td>118.1956</td>\n",
       "      <td>12087400.0</td>\n",
       "      <td>785.0500</td>\n",
       "      <td>785.0500</td>\n",
       "      <td>794.2300</td>\n",
       "      <td>783.2000</td>\n",
       "      <td>793.7000</td>\n",
       "      <td>1153800.0</td>\n",
       "      <td>33.9015</td>\n",
       "      <td>36.63</td>\n",
       "      <td>37.2000</td>\n",
       "      <td>36.58</td>\n",
       "      <td>37.1000</td>\n",
       "      <td>12868600.0</td>\n",
       "      <td>59.8864</td>\n",
       "      <td>62.99</td>\n",
       "      <td>63.4009</td>\n",
       "      <td>62.83</td>\n",
       "      <td>63.4000</td>\n",
       "      <td>14653300.0</td>\n",
       "      <td>46.8478</td>\n",
       "      <td>48.73</td>\n",
       "      <td>49.295</td>\n",
       "      <td>48.7100</td>\n",
       "      <td>49.2300</td>\n",
       "      <td>7777600.0</td>\n",
       "    </tr>\n",
       "    <tr>\n",
       "      <th>2016-12-29</th>\n",
       "      <td>111.5079</td>\n",
       "      <td>116.73</td>\n",
       "      <td>117.1094</td>\n",
       "      <td>116.40</td>\n",
       "      <td>116.4500</td>\n",
       "      <td>15039500.0</td>\n",
       "      <td>116.35</td>\n",
       "      <td>116.350</td>\n",
       "      <td>117.531</td>\n",
       "      <td>116.060</td>\n",
       "      <td>117.0000</td>\n",
       "      <td>9934900.0</td>\n",
       "      <td>782.7900</td>\n",
       "      <td>782.7900</td>\n",
       "      <td>785.9300</td>\n",
       "      <td>778.9200</td>\n",
       "      <td>783.2909</td>\n",
       "      <td>744300.0</td>\n",
       "      <td>33.9293</td>\n",
       "      <td>36.66</td>\n",
       "      <td>36.7200</td>\n",
       "      <td>36.43</td>\n",
       "      <td>36.5100</td>\n",
       "      <td>8447300.0</td>\n",
       "      <td>59.8008</td>\n",
       "      <td>62.90</td>\n",
       "      <td>63.2000</td>\n",
       "      <td>62.73</td>\n",
       "      <td>62.8600</td>\n",
       "      <td>10250600.0</td>\n",
       "      <td>46.8574</td>\n",
       "      <td>48.74</td>\n",
       "      <td>48.865</td>\n",
       "      <td>48.6169</td>\n",
       "      <td>48.7300</td>\n",
       "      <td>4796500.0</td>\n",
       "    </tr>\n",
       "    <tr>\n",
       "      <th>2016-12-30</th>\n",
       "      <td>110.6386</td>\n",
       "      <td>115.82</td>\n",
       "      <td>117.2000</td>\n",
       "      <td>115.43</td>\n",
       "      <td>116.6577</td>\n",
       "      <td>30586300.0</td>\n",
       "      <td>115.05</td>\n",
       "      <td>115.050</td>\n",
       "      <td>116.830</td>\n",
       "      <td>114.774</td>\n",
       "      <td>116.5950</td>\n",
       "      <td>18684100.0</td>\n",
       "      <td>771.8200</td>\n",
       "      <td>771.8200</td>\n",
       "      <td>782.7800</td>\n",
       "      <td>770.4100</td>\n",
       "      <td>782.7500</td>\n",
       "      <td>1770000.0</td>\n",
       "      <td>33.5684</td>\n",
       "      <td>36.27</td>\n",
       "      <td>36.8000</td>\n",
       "      <td>36.20</td>\n",
       "      <td>36.7900</td>\n",
       "      <td>17468000.0</td>\n",
       "      <td>59.0783</td>\n",
       "      <td>62.14</td>\n",
       "      <td>62.9900</td>\n",
       "      <td>62.03</td>\n",
       "      <td>62.9600</td>\n",
       "      <td>25579900.0</td>\n",
       "      <td>46.4920</td>\n",
       "      <td>48.36</td>\n",
       "      <td>48.850</td>\n",
       "      <td>48.2100</td>\n",
       "      <td>48.8500</td>\n",
       "      <td>8501600.0</td>\n",
       "    </tr>\n",
       "  </tbody>\n",
       "</table>\n",
       "<p>1163 rows × 36 columns</p>\n",
       "</div>"
      ],
      "text/plain": [
       "            Adj Close   Close      High  ...      Low     Open      Volume\n",
       "Dt                                       ...                              \n",
       "2012-05-18    65.9263  530.38  543.4100  ...  27.4100  27.8390  12598100.0\n",
       "2012-05-21    69.7672  561.28  561.5400  ...  27.4700  27.5300   8552200.0\n",
       "2012-05-22    69.2314  556.97  573.8800  ...  27.9000  28.2400   7814300.0\n",
       "2012-05-23    70.9207  570.56  572.8000  ...  27.5895  27.8500   8718700.0\n",
       "2012-05-24    70.2693  565.32  576.5069  ...  27.7200  28.1687   8300400.0\n",
       "...               ...     ...       ...  ...      ...      ...         ...\n",
       "2016-12-23   111.3073  116.52  116.5255  ...  48.7840  48.8700   6358700.0\n",
       "2016-12-27   112.0142  117.26  117.8000  ...  49.0000  49.0200   6840700.0\n",
       "2016-12-28   111.5366  116.76  118.0170  ...  48.7100  49.2300   7777600.0\n",
       "2016-12-29   111.5079  116.73  117.1094  ...  48.6169  48.7300   4796500.0\n",
       "2016-12-30   110.6386  115.82  117.2000  ...  48.2100  48.8500   8501600.0\n",
       "\n",
       "[1163 rows x 36 columns]"
      ]
     },
     "execution_count": 22,
     "metadata": {
      "tags": []
     },
     "output_type": "execute_result"
    }
   ],
   "source": [
    "#Drop the company_name columns\n",
    "df=df.drop(columns='company_name')\n",
    "#Drop na\n",
    "df=df.dropna()\n",
    "df"
   ]
  },
  {
   "cell_type": "markdown",
   "metadata": {
    "id": "EmxBRAiH-Y3Y"
   },
   "source": [
    "Notice there are too much NaN in GOOG and FB. Discard these two stocks."
   ]
  },
  {
   "cell_type": "code",
   "execution_count": 23,
   "metadata": {
    "id": "2_x_R-GU-o1U"
   },
   "outputs": [],
   "source": [
    "company_list = [AAPL, INTC, MSFT, XLK]\n",
    "company_name = [\"AAPL\",\"INTC\",\"MSFT\",\"XLK\"]\n",
    "tech_list=[\"AAPL\",\"INTC\",\"MSFT\",\"XLK\"]\n",
    "\n",
    "for company, com_name in zip(company_list, company_name):\n",
    "    company[\"company_name\"] = com_name\n",
    "    \n",
    "df = pd.concat(company_list, axis=1)"
   ]
  },
  {
   "cell_type": "code",
   "execution_count": 24,
   "metadata": {
    "colab": {
     "base_uri": "https://localhost:8080/",
     "height": 657
    },
    "id": "N2XuBnwt-t9K",
    "outputId": "843c51a6-4b1e-40b8-9fa7-b585e9919131"
   },
   "outputs": [
    {
     "data": {
      "text/html": [
       "<div>\n",
       "<style scoped>\n",
       "    .dataframe tbody tr th:only-of-type {\n",
       "        vertical-align: middle;\n",
       "    }\n",
       "\n",
       "    .dataframe tbody tr th {\n",
       "        vertical-align: top;\n",
       "    }\n",
       "\n",
       "    .dataframe thead th {\n",
       "        text-align: right;\n",
       "    }\n",
       "</style>\n",
       "<table border=\"1\" class=\"dataframe\">\n",
       "  <thead>\n",
       "    <tr style=\"text-align: right;\">\n",
       "      <th></th>\n",
       "      <th>Adj Close</th>\n",
       "      <th>Close</th>\n",
       "      <th>High</th>\n",
       "      <th>Low</th>\n",
       "      <th>Open</th>\n",
       "      <th>Volume</th>\n",
       "      <th>Adj Close</th>\n",
       "      <th>Close</th>\n",
       "      <th>High</th>\n",
       "      <th>Low</th>\n",
       "      <th>Open</th>\n",
       "      <th>Volume</th>\n",
       "      <th>Adj Close</th>\n",
       "      <th>Close</th>\n",
       "      <th>High</th>\n",
       "      <th>Low</th>\n",
       "      <th>Open</th>\n",
       "      <th>Volume</th>\n",
       "      <th>Adj Close</th>\n",
       "      <th>Close</th>\n",
       "      <th>High</th>\n",
       "      <th>Low</th>\n",
       "      <th>Open</th>\n",
       "      <th>Volume</th>\n",
       "    </tr>\n",
       "    <tr>\n",
       "      <th>Dt</th>\n",
       "      <th></th>\n",
       "      <th></th>\n",
       "      <th></th>\n",
       "      <th></th>\n",
       "      <th></th>\n",
       "      <th></th>\n",
       "      <th></th>\n",
       "      <th></th>\n",
       "      <th></th>\n",
       "      <th></th>\n",
       "      <th></th>\n",
       "      <th></th>\n",
       "      <th></th>\n",
       "      <th></th>\n",
       "      <th></th>\n",
       "      <th></th>\n",
       "      <th></th>\n",
       "      <th></th>\n",
       "      <th></th>\n",
       "      <th></th>\n",
       "      <th></th>\n",
       "      <th></th>\n",
       "      <th></th>\n",
       "      <th></th>\n",
       "    </tr>\n",
       "  </thead>\n",
       "  <tbody>\n",
       "    <tr>\n",
       "      <th>2000-01-03</th>\n",
       "      <td>3.4785</td>\n",
       "      <td>111.938</td>\n",
       "      <td>112.5000</td>\n",
       "      <td>101.688</td>\n",
       "      <td>104.8750</td>\n",
       "      <td>133949200.0</td>\n",
       "      <td>28.0137</td>\n",
       "      <td>43.500</td>\n",
       "      <td>43.6880</td>\n",
       "      <td>41.625</td>\n",
       "      <td>41.633</td>\n",
       "      <td>57710200.0</td>\n",
       "      <td>37.6233</td>\n",
       "      <td>116.563</td>\n",
       "      <td>118.6250</td>\n",
       "      <td>112.000</td>\n",
       "      <td>117.375</td>\n",
       "      <td>53228400.0</td>\n",
       "      <td>43.6306</td>\n",
       "      <td>55.438</td>\n",
       "      <td>55.625</td>\n",
       "      <td>53.5000</td>\n",
       "      <td>55.625</td>\n",
       "      <td>938100.0</td>\n",
       "    </tr>\n",
       "    <tr>\n",
       "      <th>2000-01-04</th>\n",
       "      <td>3.1852</td>\n",
       "      <td>102.500</td>\n",
       "      <td>110.6250</td>\n",
       "      <td>101.188</td>\n",
       "      <td>108.2500</td>\n",
       "      <td>128094400.0</td>\n",
       "      <td>26.7056</td>\n",
       "      <td>41.469</td>\n",
       "      <td>43.9380</td>\n",
       "      <td>41.125</td>\n",
       "      <td>42.719</td>\n",
       "      <td>51019600.0</td>\n",
       "      <td>36.3524</td>\n",
       "      <td>112.625</td>\n",
       "      <td>117.1250</td>\n",
       "      <td>112.250</td>\n",
       "      <td>113.563</td>\n",
       "      <td>54119000.0</td>\n",
       "      <td>41.4171</td>\n",
       "      <td>52.625</td>\n",
       "      <td>54.750</td>\n",
       "      <td>52.3130</td>\n",
       "      <td>54.000</td>\n",
       "      <td>545500.0</td>\n",
       "    </tr>\n",
       "    <tr>\n",
       "      <th>2000-01-05</th>\n",
       "      <td>3.2318</td>\n",
       "      <td>104.000</td>\n",
       "      <td>110.5630</td>\n",
       "      <td>103.000</td>\n",
       "      <td>103.7500</td>\n",
       "      <td>194580400.0</td>\n",
       "      <td>26.9270</td>\n",
       "      <td>41.813</td>\n",
       "      <td>42.9345</td>\n",
       "      <td>40.250</td>\n",
       "      <td>41.500</td>\n",
       "      <td>52389000.0</td>\n",
       "      <td>36.7357</td>\n",
       "      <td>113.813</td>\n",
       "      <td>116.3750</td>\n",
       "      <td>109.375</td>\n",
       "      <td>111.125</td>\n",
       "      <td>64059600.0</td>\n",
       "      <td>40.8022</td>\n",
       "      <td>51.844</td>\n",
       "      <td>53.063</td>\n",
       "      <td>50.1250</td>\n",
       "      <td>51.750</td>\n",
       "      <td>1906000.0</td>\n",
       "    </tr>\n",
       "    <tr>\n",
       "      <th>2000-01-06</th>\n",
       "      <td>2.9521</td>\n",
       "      <td>95.000</td>\n",
       "      <td>107.0000</td>\n",
       "      <td>95.000</td>\n",
       "      <td>106.1183</td>\n",
       "      <td>191993200.0</td>\n",
       "      <td>25.3572</td>\n",
       "      <td>39.375</td>\n",
       "      <td>41.6880</td>\n",
       "      <td>39.094</td>\n",
       "      <td>40.875</td>\n",
       "      <td>55171200.0</td>\n",
       "      <td>35.5051</td>\n",
       "      <td>110.000</td>\n",
       "      <td>113.8750</td>\n",
       "      <td>108.375</td>\n",
       "      <td>112.188</td>\n",
       "      <td>54976600.0</td>\n",
       "      <td>39.4496</td>\n",
       "      <td>50.125</td>\n",
       "      <td>52.094</td>\n",
       "      <td>49.6250</td>\n",
       "      <td>51.250</td>\n",
       "      <td>1670000.0</td>\n",
       "    </tr>\n",
       "    <tr>\n",
       "      <th>2000-01-07</th>\n",
       "      <td>3.0920</td>\n",
       "      <td>99.500</td>\n",
       "      <td>101.0000</td>\n",
       "      <td>95.500</td>\n",
       "      <td>96.5000</td>\n",
       "      <td>115183600.0</td>\n",
       "      <td>26.4037</td>\n",
       "      <td>41.000</td>\n",
       "      <td>41.0000</td>\n",
       "      <td>38.688</td>\n",
       "      <td>38.750</td>\n",
       "      <td>41096400.0</td>\n",
       "      <td>35.9691</td>\n",
       "      <td>111.438</td>\n",
       "      <td>112.2500</td>\n",
       "      <td>107.313</td>\n",
       "      <td>108.625</td>\n",
       "      <td>62013600.0</td>\n",
       "      <td>40.1382</td>\n",
       "      <td>51.000</td>\n",
       "      <td>51.000</td>\n",
       "      <td>49.1263</td>\n",
       "      <td>49.625</td>\n",
       "      <td>686000.0</td>\n",
       "    </tr>\n",
       "    <tr>\n",
       "      <th>...</th>\n",
       "      <td>...</td>\n",
       "      <td>...</td>\n",
       "      <td>...</td>\n",
       "      <td>...</td>\n",
       "      <td>...</td>\n",
       "      <td>...</td>\n",
       "      <td>...</td>\n",
       "      <td>...</td>\n",
       "      <td>...</td>\n",
       "      <td>...</td>\n",
       "      <td>...</td>\n",
       "      <td>...</td>\n",
       "      <td>...</td>\n",
       "      <td>...</td>\n",
       "      <td>...</td>\n",
       "      <td>...</td>\n",
       "      <td>...</td>\n",
       "      <td>...</td>\n",
       "      <td>...</td>\n",
       "      <td>...</td>\n",
       "      <td>...</td>\n",
       "      <td>...</td>\n",
       "      <td>...</td>\n",
       "      <td>...</td>\n",
       "    </tr>\n",
       "    <tr>\n",
       "      <th>2016-12-23</th>\n",
       "      <td>111.3073</td>\n",
       "      <td>116.520</td>\n",
       "      <td>116.5255</td>\n",
       "      <td>115.590</td>\n",
       "      <td>115.5900</td>\n",
       "      <td>14249500.0</td>\n",
       "      <td>34.2162</td>\n",
       "      <td>36.970</td>\n",
       "      <td>36.9800</td>\n",
       "      <td>36.770</td>\n",
       "      <td>36.930</td>\n",
       "      <td>6287300.0</td>\n",
       "      <td>60.1241</td>\n",
       "      <td>63.240</td>\n",
       "      <td>63.5400</td>\n",
       "      <td>62.800</td>\n",
       "      <td>63.450</td>\n",
       "      <td>12403800.0</td>\n",
       "      <td>47.0785</td>\n",
       "      <td>48.970</td>\n",
       "      <td>48.980</td>\n",
       "      <td>48.7840</td>\n",
       "      <td>48.870</td>\n",
       "      <td>6358700.0</td>\n",
       "    </tr>\n",
       "    <tr>\n",
       "      <th>2016-12-27</th>\n",
       "      <td>112.0142</td>\n",
       "      <td>117.260</td>\n",
       "      <td>117.8000</td>\n",
       "      <td>116.490</td>\n",
       "      <td>116.5200</td>\n",
       "      <td>18296900.0</td>\n",
       "      <td>34.3088</td>\n",
       "      <td>37.070</td>\n",
       "      <td>37.3300</td>\n",
       "      <td>36.910</td>\n",
       "      <td>36.910</td>\n",
       "      <td>9033700.0</td>\n",
       "      <td>60.1621</td>\n",
       "      <td>63.280</td>\n",
       "      <td>64.0700</td>\n",
       "      <td>63.210</td>\n",
       "      <td>63.210</td>\n",
       "      <td>11763200.0</td>\n",
       "      <td>47.2708</td>\n",
       "      <td>49.170</td>\n",
       "      <td>49.400</td>\n",
       "      <td>49.0000</td>\n",
       "      <td>49.020</td>\n",
       "      <td>6840700.0</td>\n",
       "    </tr>\n",
       "    <tr>\n",
       "      <th>2016-12-28</th>\n",
       "      <td>111.5366</td>\n",
       "      <td>116.760</td>\n",
       "      <td>118.0170</td>\n",
       "      <td>116.200</td>\n",
       "      <td>117.5200</td>\n",
       "      <td>20905900.0</td>\n",
       "      <td>33.9015</td>\n",
       "      <td>36.630</td>\n",
       "      <td>37.2000</td>\n",
       "      <td>36.580</td>\n",
       "      <td>37.100</td>\n",
       "      <td>12868600.0</td>\n",
       "      <td>59.8864</td>\n",
       "      <td>62.990</td>\n",
       "      <td>63.4009</td>\n",
       "      <td>62.830</td>\n",
       "      <td>63.400</td>\n",
       "      <td>14653300.0</td>\n",
       "      <td>46.8478</td>\n",
       "      <td>48.730</td>\n",
       "      <td>49.295</td>\n",
       "      <td>48.7100</td>\n",
       "      <td>49.230</td>\n",
       "      <td>7777600.0</td>\n",
       "    </tr>\n",
       "    <tr>\n",
       "      <th>2016-12-29</th>\n",
       "      <td>111.5079</td>\n",
       "      <td>116.730</td>\n",
       "      <td>117.1094</td>\n",
       "      <td>116.400</td>\n",
       "      <td>116.4500</td>\n",
       "      <td>15039500.0</td>\n",
       "      <td>33.9293</td>\n",
       "      <td>36.660</td>\n",
       "      <td>36.7200</td>\n",
       "      <td>36.430</td>\n",
       "      <td>36.510</td>\n",
       "      <td>8447300.0</td>\n",
       "      <td>59.8008</td>\n",
       "      <td>62.900</td>\n",
       "      <td>63.2000</td>\n",
       "      <td>62.730</td>\n",
       "      <td>62.860</td>\n",
       "      <td>10250600.0</td>\n",
       "      <td>46.8574</td>\n",
       "      <td>48.740</td>\n",
       "      <td>48.865</td>\n",
       "      <td>48.6169</td>\n",
       "      <td>48.730</td>\n",
       "      <td>4796500.0</td>\n",
       "    </tr>\n",
       "    <tr>\n",
       "      <th>2016-12-30</th>\n",
       "      <td>110.6386</td>\n",
       "      <td>115.820</td>\n",
       "      <td>117.2000</td>\n",
       "      <td>115.430</td>\n",
       "      <td>116.6577</td>\n",
       "      <td>30586300.0</td>\n",
       "      <td>33.5684</td>\n",
       "      <td>36.270</td>\n",
       "      <td>36.8000</td>\n",
       "      <td>36.200</td>\n",
       "      <td>36.790</td>\n",
       "      <td>17468000.0</td>\n",
       "      <td>59.0783</td>\n",
       "      <td>62.140</td>\n",
       "      <td>62.9900</td>\n",
       "      <td>62.030</td>\n",
       "      <td>62.960</td>\n",
       "      <td>25579900.0</td>\n",
       "      <td>46.4920</td>\n",
       "      <td>48.360</td>\n",
       "      <td>48.850</td>\n",
       "      <td>48.2100</td>\n",
       "      <td>48.850</td>\n",
       "      <td>8501600.0</td>\n",
       "    </tr>\n",
       "  </tbody>\n",
       "</table>\n",
       "<p>4277 rows × 24 columns</p>\n",
       "</div>"
      ],
      "text/plain": [
       "            Adj Close    Close      High  ...      Low    Open     Volume\n",
       "Dt                                        ...                            \n",
       "2000-01-03     3.4785  111.938  112.5000  ...  53.5000  55.625   938100.0\n",
       "2000-01-04     3.1852  102.500  110.6250  ...  52.3130  54.000   545500.0\n",
       "2000-01-05     3.2318  104.000  110.5630  ...  50.1250  51.750  1906000.0\n",
       "2000-01-06     2.9521   95.000  107.0000  ...  49.6250  51.250  1670000.0\n",
       "2000-01-07     3.0920   99.500  101.0000  ...  49.1263  49.625   686000.0\n",
       "...               ...      ...       ...  ...      ...     ...        ...\n",
       "2016-12-23   111.3073  116.520  116.5255  ...  48.7840  48.870  6358700.0\n",
       "2016-12-27   112.0142  117.260  117.8000  ...  49.0000  49.020  6840700.0\n",
       "2016-12-28   111.5366  116.760  118.0170  ...  48.7100  49.230  7777600.0\n",
       "2016-12-29   111.5079  116.730  117.1094  ...  48.6169  48.730  4796500.0\n",
       "2016-12-30   110.6386  115.820  117.2000  ...  48.2100  48.850  8501600.0\n",
       "\n",
       "[4277 rows x 24 columns]"
      ]
     },
     "execution_count": 24,
     "metadata": {
      "tags": []
     },
     "output_type": "execute_result"
    }
   ],
   "source": [
    "df=df.drop(columns='company_name')\n",
    "df=df.dropna()\n",
    "df"
   ]
  },
  {
   "cell_type": "code",
   "execution_count": 25,
   "metadata": {
    "colab": {
     "base_uri": "https://localhost:8080/",
     "height": 297
    },
    "id": "O9gfl3WlgT2t",
    "outputId": "3a9a9450-45dc-4407-e9f9-8ca4eeea8ee7"
   },
   "outputs": [
    {
     "data": {
      "text/html": [
       "<div>\n",
       "<style scoped>\n",
       "    .dataframe tbody tr th:only-of-type {\n",
       "        vertical-align: middle;\n",
       "    }\n",
       "\n",
       "    .dataframe tbody tr th {\n",
       "        vertical-align: top;\n",
       "    }\n",
       "\n",
       "    .dataframe thead th {\n",
       "        text-align: right;\n",
       "    }\n",
       "</style>\n",
       "<table border=\"1\" class=\"dataframe\">\n",
       "  <thead>\n",
       "    <tr style=\"text-align: right;\">\n",
       "      <th></th>\n",
       "      <th>Adj Close</th>\n",
       "      <th>Close</th>\n",
       "      <th>High</th>\n",
       "      <th>Low</th>\n",
       "      <th>Open</th>\n",
       "      <th>Volume</th>\n",
       "    </tr>\n",
       "  </thead>\n",
       "  <tbody>\n",
       "    <tr>\n",
       "      <th>count</th>\n",
       "      <td>4277.000000</td>\n",
       "      <td>4277.000000</td>\n",
       "      <td>4277.000000</td>\n",
       "      <td>4277.000000</td>\n",
       "      <td>4277.000000</td>\n",
       "      <td>4.277000e+03</td>\n",
       "    </tr>\n",
       "    <tr>\n",
       "      <th>mean</th>\n",
       "      <td>34.065846</td>\n",
       "      <td>170.450354</td>\n",
       "      <td>172.424040</td>\n",
       "      <td>168.407568</td>\n",
       "      <td>170.528689</td>\n",
       "      <td>1.299660e+08</td>\n",
       "    </tr>\n",
       "    <tr>\n",
       "      <th>std</th>\n",
       "      <td>36.698987</td>\n",
       "      <td>173.484604</td>\n",
       "      <td>174.989551</td>\n",
       "      <td>171.934671</td>\n",
       "      <td>173.604272</td>\n",
       "      <td>9.970883e+07</td>\n",
       "    </tr>\n",
       "    <tr>\n",
       "      <th>min</th>\n",
       "      <td>0.815400</td>\n",
       "      <td>13.120000</td>\n",
       "      <td>13.190000</td>\n",
       "      <td>12.720000</td>\n",
       "      <td>12.990000</td>\n",
       "      <td>9.835000e+06</td>\n",
       "    </tr>\n",
       "    <tr>\n",
       "      <th>25%</th>\n",
       "      <td>3.115300</td>\n",
       "      <td>39.759000</td>\n",
       "      <td>40.260000</td>\n",
       "      <td>39.030000</td>\n",
       "      <td>39.530000</td>\n",
       "      <td>6.363350e+07</td>\n",
       "    </tr>\n",
       "    <tr>\n",
       "      <th>50%</th>\n",
       "      <td>16.948300</td>\n",
       "      <td>106.745000</td>\n",
       "      <td>108.360000</td>\n",
       "      <td>105.200000</td>\n",
       "      <td>106.959000</td>\n",
       "      <td>1.016484e+08</td>\n",
       "    </tr>\n",
       "    <tr>\n",
       "      <th>75%</th>\n",
       "      <td>62.413600</td>\n",
       "      <td>222.250000</td>\n",
       "      <td>224.980000</td>\n",
       "      <td>217.890000</td>\n",
       "      <td>220.010000</td>\n",
       "      <td>1.679636e+08</td>\n",
       "    </tr>\n",
       "    <tr>\n",
       "      <th>max</th>\n",
       "      <td>122.771400</td>\n",
       "      <td>702.100000</td>\n",
       "      <td>705.070000</td>\n",
       "      <td>699.570000</td>\n",
       "      <td>702.410000</td>\n",
       "      <td>1.855410e+09</td>\n",
       "    </tr>\n",
       "  </tbody>\n",
       "</table>\n",
       "</div>"
      ],
      "text/plain": [
       "         Adj Close        Close  ...         Open        Volume\n",
       "count  4277.000000  4277.000000  ...  4277.000000  4.277000e+03\n",
       "mean     34.065846   170.450354  ...   170.528689  1.299660e+08\n",
       "std      36.698987   173.484604  ...   173.604272  9.970883e+07\n",
       "min       0.815400    13.120000  ...    12.990000  9.835000e+06\n",
       "25%       3.115300    39.759000  ...    39.530000  6.363350e+07\n",
       "50%      16.948300   106.745000  ...   106.959000  1.016484e+08\n",
       "75%      62.413600   222.250000  ...   220.010000  1.679636e+08\n",
       "max     122.771400   702.100000  ...   702.410000  1.855410e+09\n",
       "\n",
       "[8 rows x 6 columns]"
      ]
     },
     "execution_count": 25,
     "metadata": {
      "tags": []
     },
     "output_type": "execute_result"
    }
   ],
   "source": [
    "AAPL.describe()"
   ]
  },
  {
   "cell_type": "code",
   "execution_count": 26,
   "metadata": {
    "colab": {
     "base_uri": "https://localhost:8080/"
    },
    "id": "BSpJPI05glZp",
    "outputId": "61cf749b-0aa0-4993-ccda-3862ad0ed329"
   },
   "outputs": [
    {
     "name": "stdout",
     "output_type": "stream",
     "text": [
      "<class 'pandas.core.frame.DataFrame'>\n",
      "Index: 4277 entries, 2000-01-03 to 2016-12-30\n",
      "Data columns (total 24 columns):\n",
      " #   Column     Non-Null Count  Dtype  \n",
      "---  ------     --------------  -----  \n",
      " 0   Adj Close  4277 non-null   float64\n",
      " 1   Close      4277 non-null   float64\n",
      " 2   High       4277 non-null   float64\n",
      " 3   Low        4277 non-null   float64\n",
      " 4   Open       4277 non-null   float64\n",
      " 5   Volume     4277 non-null   float64\n",
      " 6   Adj Close  4277 non-null   float64\n",
      " 7   Close      4277 non-null   float64\n",
      " 8   High       4277 non-null   float64\n",
      " 9   Low        4277 non-null   float64\n",
      " 10  Open       4277 non-null   float64\n",
      " 11  Volume     4277 non-null   float64\n",
      " 12  Adj Close  4277 non-null   float64\n",
      " 13  Close      4277 non-null   float64\n",
      " 14  High       4277 non-null   float64\n",
      " 15  Low        4277 non-null   float64\n",
      " 16  Open       4277 non-null   float64\n",
      " 17  Volume     4277 non-null   float64\n",
      " 18  Adj Close  4277 non-null   float64\n",
      " 19  Close      4277 non-null   float64\n",
      " 20  High       4277 non-null   float64\n",
      " 21  Low        4277 non-null   float64\n",
      " 22  Open       4277 non-null   float64\n",
      " 23  Volume     4277 non-null   float64\n",
      "dtypes: float64(24)\n",
      "memory usage: 835.4+ KB\n"
     ]
    }
   ],
   "source": [
    "df.info()"
   ]
  },
  {
   "cell_type": "markdown",
   "metadata": {
    "id": "Bh_vvOojvBhR"
   },
   "source": [
    "### Scale the data & Train test split\n",
    "\n",
    "Since each example has different length, we scale the data first."
   ]
  },
  {
   "cell_type": "code",
   "execution_count": 27,
   "metadata": {
    "colab": {
     "base_uri": "https://localhost:8080/"
    },
    "id": "D_t4Cn6-nBmX",
    "outputId": "865a41b0-bd56-419d-dd27-d71d8306266f"
   },
   "outputs": [
    {
     "data": {
      "text/plain": [
       "((3122,), (555,))"
      ]
     },
     "execution_count": 27,
     "metadata": {
      "tags": []
     },
     "output_type": "execute_result"
    },
    {
     "data": {
      "text/plain": [
       "((3122,), (555,))"
      ]
     },
     "execution_count": 27,
     "metadata": {
      "tags": []
     },
     "output_type": "execute_result"
    }
   ],
   "source": [
    "#Get X and y\n",
    "X=df.copy()\n",
    "y=df.iloc[:,0].pct_change()\n",
    "\n",
    "#Set 80% of data to be the train data\n",
    "train_data_len=int(np.ceil( X.shape[0] * .8 ))\n",
    "test_data_len=X.shape[0]-train_data_len\n",
    "\n",
    "train_data=X.iloc[:train_data_len,:]\n",
    "test_data=X.iloc[train_data_len:,:]\n",
    "train_data_mean=train_data.mean()\n",
    "train_data_std=train_data.std()\n",
    "train_data=(train_data-train_data_mean)/train_data_std # Scale the train data sets\n",
    "test_data=(test_data-train_data_mean)/train_data_std # Scale the test data sets as same as train data\n",
    "\n",
    "# Set train test target\n",
    "y_train=y.iloc[300:train_data_len]\n",
    "y_test=y.iloc[train_data_len+300:]\n",
    "\n",
    "#Set train test features\n",
    "X_train=[]\n",
    "#Get the sequence of features for every target data\n",
    "for i in range(300, train_data.shape[0]):\n",
    "  n=train_data.iloc[:i,:].values.tolist()\n",
    "  X_train.append(n)\n",
    "\n",
    "X_test=[]\n",
    "#Get the X_test y_test\n",
    "for i in range(300, test_data.shape[0]):\n",
    "  m=test_data.iloc[:i,:].values.tolist()\n",
    "  X_test.append(m)\n",
    "\n",
    "X_train, X_test = np.array(X_train), np.array(X_test)\n",
    "\n",
    "X_train.shape, X_test.shape\n",
    "y_train.shape, y_test.shape"
   ]
  },
  {
   "cell_type": "markdown",
   "metadata": {
    "id": "uz9MKbTd0BOY"
   },
   "source": [
    "## Step B: EDA"
   ]
  },
  {
   "cell_type": "code",
   "execution_count": 28,
   "metadata": {
    "id": "SA1Uc8tR3-MQ"
   },
   "outputs": [],
   "source": [
    "def plotstock(features):\n",
    "  plt.figure(figsize=(14,112))\n",
    "  plt.subplots_adjust(top=1.25, bottom=1.2)\n",
    "\n",
    "  for i, company in enumerate(company_list, 1):\n",
    "      plt.subplot(2, 2, i)\n",
    "      company[features].plot()\n",
    "      plt.ylabel(features)\n",
    "      plt.xlabel(None)\n",
    "      plt.title(f\"{tech_list[i - 1]}\")\n",
    "  return()"
   ]
  },
  {
   "cell_type": "code",
   "execution_count": 29,
   "metadata": {
    "colab": {
     "base_uri": "https://localhost:8080/",
     "height": 484
    },
    "id": "uLCHITuWropX",
    "outputId": "6b5b8319-2256-45f4-a4df-486d1210c28e"
   },
   "outputs": [
    {
     "data": {
      "text/plain": [
       "()"
      ]
     },
     "execution_count": 29,
     "metadata": {
      "tags": []
     },
     "output_type": "execute_result"
    },
    {
     "data": {
      "image/png": "[encoded data removed]",
      "text/plain": [
       "<Figure size 1008x8064 with 4 Axes>"
      ]
     },
     "metadata": {
      "needs_background": "light",
      "tags": []
     },
     "output_type": "display_data"
    }
   ],
   "source": [
    "#Plot adjusted close\n",
    "plotstock('Adj Close')"
   ]
  },
  {
   "cell_type": "code",
   "execution_count": 30,
   "metadata": {
    "colab": {
     "base_uri": "https://localhost:8080/",
     "height": 484
    },
    "id": "jbcwsZsVp3Cv",
    "outputId": "3c30e21c-6e6a-41d6-882b-6ddab6be0551"
   },
   "outputs": [
    {
     "data": {
      "text/plain": [
       "()"
      ]
     },
     "execution_count": 30,
     "metadata": {
      "tags": []
     },
     "output_type": "execute_result"
    },
    {
     "data": {
      "image/png": "[encoded data removed]",
      "text/plain": [
       "<Figure size 1008x8064 with 4 Axes>"
      ]
     },
     "metadata": {
      "needs_background": "light",
      "tags": []
     },
     "output_type": "display_data"
    }
   ],
   "source": [
    "#Plot Close\n",
    "plotstock('Close')"
   ]
  },
  {
   "cell_type": "code",
   "execution_count": 31,
   "metadata": {
    "colab": {
     "base_uri": "https://localhost:8080/",
     "height": 718
    },
    "id": "dF72Fw1L4z3p",
    "outputId": "d77ea0ca-8d52-4776-cd6a-26a92567968b"
   },
   "outputs": [
    {
     "data": {
      "text/plain": [
       "<matplotlib.axes._subplots.AxesSubplot at 0x7f5a3ec6c828>"
      ]
     },
     "execution_count": 31,
     "metadata": {
      "tags": []
     },
     "output_type": "execute_result"
    },
    {
     "data": {
      "text/plain": [
       "Text(0.5, 1.0, 'AAPL')"
      ]
     },
     "execution_count": 31,
     "metadata": {
      "tags": []
     },
     "output_type": "execute_result"
    },
    {
     "data": {
      "text/plain": [
       "<matplotlib.axes._subplots.AxesSubplot at 0x7f5a3ec096d8>"
      ]
     },
     "execution_count": 31,
     "metadata": {
      "tags": []
     },
     "output_type": "execute_result"
    },
    {
     "data": {
      "text/plain": [
       "Text(0.5, 1.0, 'INTC')"
      ]
     },
     "execution_count": 31,
     "metadata": {
      "tags": []
     },
     "output_type": "execute_result"
    },
    {
     "data": {
      "text/plain": [
       "<matplotlib.axes._subplots.AxesSubplot at 0x7f5a3ec3b908>"
      ]
     },
     "execution_count": 31,
     "metadata": {
      "tags": []
     },
     "output_type": "execute_result"
    },
    {
     "data": {
      "text/plain": [
       "Text(0.5, 1.0, 'MSFT')"
      ]
     },
     "execution_count": 31,
     "metadata": {
      "tags": []
     },
     "output_type": "execute_result"
    },
    {
     "data": {
      "text/plain": [
       "<matplotlib.axes._subplots.AxesSubplot at 0x7f5a3ebf1b38>"
      ]
     },
     "execution_count": 31,
     "metadata": {
      "tags": []
     },
     "output_type": "execute_result"
    },
    {
     "data": {
      "text/plain": [
       "Text(0.5, 1.0, 'XLK')"
      ]
     },
     "execution_count": 31,
     "metadata": {
      "tags": []
     },
     "output_type": "execute_result"
    },
    {
     "data": {
      "image/png": "[encoded data removed]",
      "text/plain": [
       "<Figure size 1152x720 with 4 Axes>"
      ]
     },
     "metadata": {
      "needs_background": "light",
      "tags": []
     },
     "output_type": "display_data"
    }
   ],
   "source": [
    "#Moving Average Plot\n",
    "ma_day = [20, 50, 100]\n",
    "\n",
    "for ma in ma_day:\n",
    "    for company in company_list:\n",
    "        column_name = f\"MA for {ma} days\"\n",
    "        company[column_name] = company['Adj Close'].rolling(ma).mean()\n",
    "\n",
    "fig, axes = plt.subplots(nrows=2, ncols=2)\n",
    "fig.set_figheight(10)\n",
    "fig.set_figwidth(16)\n",
    "\n",
    "AAPL[['Adj Close', 'MA for 20 days', 'MA for 50 days', 'MA for 100 days']].plot(ax=axes[0,0])\n",
    "axes[0,0].set_title('AAPL')\n",
    "\n",
    "INTC[['Adj Close', 'MA for 20 days', 'MA for 50 days', 'MA for 100 days']].plot(ax=axes[0,1])\n",
    "axes[0,1].set_title('INTC')\n",
    "\n",
    "MSFT[['Adj Close', 'MA for 20 days', 'MA for 50 days', 'MA for 100 days']].plot(ax=axes[1,0])\n",
    "axes[1,0].set_title('MSFT')\n",
    "\n",
    "XLK[['Adj Close', 'MA for 20 days', 'MA for 50 days', 'MA for 100 days']].plot(ax=axes[1,1])\n",
    "axes[1,1].set_title('XLK')\n",
    "\n",
    "fig.tight_layout()\n"
   ]
  },
  {
   "cell_type": "code",
   "execution_count": 32,
   "metadata": {
    "colab": {
     "base_uri": "https://localhost:8080/",
     "height": 718
    },
    "id": "hFznB6BW67E9",
    "outputId": "da2f7c9b-98d8-4f6f-ba8e-a2242cbbd8ad"
   },
   "outputs": [
    {
     "data": {
      "text/plain": [
       "<matplotlib.axes._subplots.AxesSubplot at 0x7f5a3ec5eb70>"
      ]
     },
     "execution_count": 32,
     "metadata": {
      "tags": []
     },
     "output_type": "execute_result"
    },
    {
     "data": {
      "text/plain": [
       "Text(0.5, 1.0, 'AAPL')"
      ]
     },
     "execution_count": 32,
     "metadata": {
      "tags": []
     },
     "output_type": "execute_result"
    },
    {
     "data": {
      "text/plain": [
       "<matplotlib.axes._subplots.AxesSubplot at 0x7f5a3c213240>"
      ]
     },
     "execution_count": 32,
     "metadata": {
      "tags": []
     },
     "output_type": "execute_result"
    },
    {
     "data": {
      "text/plain": [
       "Text(0.5, 1.0, 'INTC')"
      ]
     },
     "execution_count": 32,
     "metadata": {
      "tags": []
     },
     "output_type": "execute_result"
    },
    {
     "data": {
      "text/plain": [
       "<matplotlib.axes._subplots.AxesSubplot at 0x7f5a3c1c0588>"
      ]
     },
     "execution_count": 32,
     "metadata": {
      "tags": []
     },
     "output_type": "execute_result"
    },
    {
     "data": {
      "text/plain": [
       "Text(0.5, 1.0, 'MSFT')"
      ]
     },
     "execution_count": 32,
     "metadata": {
      "tags": []
     },
     "output_type": "execute_result"
    },
    {
     "data": {
      "text/plain": [
       "<matplotlib.axes._subplots.AxesSubplot at 0x7f5a3c1f1908>"
      ]
     },
     "execution_count": 32,
     "metadata": {
      "tags": []
     },
     "output_type": "execute_result"
    },
    {
     "data": {
      "text/plain": [
       "Text(0.5, 1.0, 'XLK')"
      ]
     },
     "execution_count": 32,
     "metadata": {
      "tags": []
     },
     "output_type": "execute_result"
    },
    {
     "data": {
      "image/png": "[encoded data removed]",
      "text/plain": [
       "<Figure size 1152x720 with 4 Axes>"
      ]
     },
     "metadata": {
      "needs_background": "light",
      "tags": []
     },
     "output_type": "display_data"
    }
   ],
   "source": [
    "# Daily return\n",
    "for company in company_list:\n",
    "    company['Daily Return'] = company['Adj Close'].pct_change()\n",
    "\n",
    "fig, axes = plt.subplots(nrows=2, ncols=2)\n",
    "fig.set_figheight(10)\n",
    "fig.set_figwidth(16)\n",
    "\n",
    "AAPL['Daily Return'].plot(ax=axes[0,0])\n",
    "axes[0,0].set_title('AAPL')\n",
    "\n",
    "INTC['Daily Return'].plot(ax=axes[0,1])\n",
    "axes[0,1].set_title('INTC')\n",
    "\n",
    "MSFT['Daily Return'].plot(ax=axes[1,0])\n",
    "axes[1,0].set_title('MSFT')\n",
    "\n",
    "XLK['Daily Return'].plot(ax=axes[1,1])\n",
    "axes[1,1].set_title('XLK')\n",
    "\n",
    "fig.tight_layout()\n"
   ]
  },
  {
   "cell_type": "code",
   "execution_count": 33,
   "metadata": {
    "colab": {
     "base_uri": "https://localhost:8080/",
     "height": 286
    },
    "id": "DdfQCgQfPsPM",
    "outputId": "ea1c7120-c21a-4842-cb1a-600453401267"
   },
   "outputs": [
    {
     "data": {
      "text/plain": [
       "<matplotlib.axes._subplots.AxesSubplot at 0x7f5a3ec57470>"
      ]
     },
     "execution_count": 33,
     "metadata": {
      "tags": []
     },
     "output_type": "execute_result"
    },
    {
     "data": {
      "image/png": "[encoded data removed]",
      "text/plain": [
       "<Figure size 432x288 with 2 Axes>"
      ]
     },
     "metadata": {
      "needs_background": "light",
      "tags": []
     },
     "output_type": "display_data"
    }
   ],
   "source": [
    "#Visualize the correlations between features of stocks\n",
    "def extractfeatures(feature):\n",
    "  tech=pd.concat([AAPL[feature],INTC[feature],MSFT[feature],XLK[feature]],axis=1)\n",
    "  tech=tech.dropna()\n",
    "  tech.columns=company_name\n",
    "  return(tech)\n",
    "\n",
    "dailyreturns=extractfeatures('Daily Return')\n",
    "sns.heatmap(dailyreturns.corr(), annot=True, cmap='summer')"
   ]
  },
  {
   "cell_type": "code",
   "execution_count": 34,
   "metadata": {
    "colab": {
     "base_uri": "https://localhost:8080/",
     "height": 286
    },
    "id": "v9PGdre8mLJs",
    "outputId": "2b2a8dad-f329-4f25-955d-42409277873a"
   },
   "outputs": [
    {
     "data": {
      "text/plain": [
       "<matplotlib.axes._subplots.AxesSubplot at 0x7f5a3ec686a0>"
      ]
     },
     "execution_count": 34,
     "metadata": {
      "tags": []
     },
     "output_type": "execute_result"
    },
    {
     "data": {
      "image/png": "[encoded data removed]",
      "text/plain": [
       "<Figure size 432x288 with 2 Axes>"
      ]
     },
     "metadata": {
      "needs_background": "light",
      "tags": []
     },
     "output_type": "display_data"
    }
   ],
   "source": [
    "adjclose=extractfeatures('Adj Close')\n",
    "sns.heatmap(adjclose.corr(), annot=True, cmap='summer')"
   ]
  },
  {
   "cell_type": "markdown",
   "metadata": {
    "id": "b1dNSjKMqb64"
   },
   "source": [
    "We can see from the correlation plot that although the correlations between returns are not strong, the correlations between adjusted close are relatively strong. Thus, predicting adj close might be a good idea."
   ]
  },
  {
   "cell_type": "markdown",
   "metadata": {
    "id": "3fKY2f4oTVWO"
   },
   "source": [
    "## Step C: Prepare the sequence\n",
    "\n",
    "Since every example's length is different, add zero until the legth reaches the maximum."
   ]
  },
  {
   "cell_type": "code",
   "execution_count": 35,
   "metadata": {
    "id": "73YC7M_9TnIa"
   },
   "outputs": [],
   "source": [
    "def preprocess(X):\n",
    "  X_lastelementlen=len(X[-1])\n",
    "  X=tf.keras.preprocessing.sequence.pad_sequences(X,maxlen=X_lastelementlen,padding='post')\n",
    "  return(X)\n",
    "\n",
    "X_train=preprocess(X_train)\n",
    "X_test=preprocess(X_test)"
   ]
  },
  {
   "cell_type": "code",
   "execution_count": 36,
   "metadata": {
    "colab": {
     "base_uri": "https://localhost:8080/"
    },
    "id": "fKISccvHID5M",
    "outputId": "46d11b14-87dd-4549-f514-931fcba7f61d"
   },
   "outputs": [
    {
     "data": {
      "text/plain": [
       "((3122, 3421, 24), (555, 854, 24))"
      ]
     },
     "execution_count": 36,
     "metadata": {
      "tags": []
     },
     "output_type": "execute_result"
    }
   ],
   "source": [
    "# See the shape \n",
    "X_train.shape, X_test.shape"
   ]
  },
  {
   "cell_type": "markdown",
   "metadata": {
    "id": "Shig792grAY4"
   },
   "source": [
    "## Step C: Modelling"
   ]
  },
  {
   "cell_type": "markdown",
   "metadata": {
    "id": "vlf1QDGNIdPK"
   },
   "source": [
    "### Model 0"
   ]
  },
  {
   "cell_type": "code",
   "execution_count": 46,
   "metadata": {
    "colab": {
     "base_uri": "https://localhost:8080/"
    },
    "id": "WH6YXuhZPU0x",
    "outputId": "0fcd229e-79e3-411e-911e-3ffb3482d2f3"
   },
   "outputs": [
    {
     "name": "stdout",
     "output_type": "stream",
     "text": [
      "Epoch 1/10\n",
      "32/32 [==============================] - 231s 7s/step - loss: 0.0138\n",
      "Epoch 2/10\n",
      "32/32 [==============================] - 231s 7s/step - loss: 0.0028\n",
      "Epoch 3/10\n",
      "32/32 [==============================] - 229s 7s/step - loss: 0.0020\n",
      "Epoch 4/10\n",
      "32/32 [==============================] - 229s 7s/step - loss: 0.0013\n",
      "Epoch 5/10\n",
      "32/32 [==============================] - 230s 7s/step - loss: 0.0011\n",
      "Epoch 6/10\n",
      "32/32 [==============================] - 228s 7s/step - loss: 9.4860e-04\n",
      "Epoch 7/10\n",
      "32/32 [==============================] - 228s 7s/step - loss: 8.0663e-04\n",
      "Epoch 8/10\n",
      "32/32 [==============================] - 229s 7s/step - loss: 7.4953e-04\n",
      "Epoch 9/10\n",
      "32/32 [==============================] - 228s 7s/step - loss: 7.2258e-04\n",
      "Epoch 10/10\n",
      "32/32 [==============================] - 228s 7s/step - loss: 7.1345e-04\n"
     ]
    },
    {
     "data": {
      "text/plain": [
       "<tensorflow.python.keras.callbacks.History at 0x7f5a476fd5f8>"
      ]
     },
     "execution_count": 46,
     "metadata": {
      "tags": []
     },
     "output_type": "execute_result"
    }
   ],
   "source": [
    "def model_0():\n",
    "  model = Sequential()\n",
    "  model.add(Masking(mask_value=0,input_shape=X_train[-1].shape))#Skip time steps with value of zero\n",
    "  model.add(LSTM(20, activation='tanh', return_sequences=False))\n",
    "  model.add(Dense(1,activation='tanh'))\n",
    "  model.add(Dropout(0.2))\n",
    "  return(model)\n",
    "\n",
    "callbacks = tf.keras.callbacks.EarlyStopping(monitor='loss', min_delta=.00005, patience=2, verbose=0, mode='auto', baseline=None, restore_best_weights=True)\n",
    "\n",
    "model_0=model_0()\n",
    "model_0.compile(optimizer=RMSprop(lr=0.01), loss='mean_squared_error')\n",
    "model_0.fit(X_train, y_train, batch_size=100, epochs=10,callbacks=[callbacks])"
   ]
  },
  {
   "cell_type": "code",
   "execution_count": 47,
   "metadata": {
    "colab": {
     "base_uri": "https://localhost:8080/"
    },
    "id": "EeOVl3n1PX6y",
    "outputId": "a7e715aa-7edd-4ffd-ead2-3f0c5f682aa6"
   },
   "outputs": [
    {
     "name": "stdout",
     "output_type": "stream",
     "text": [
      "WARNING:tensorflow:Model was constructed with shape (None, 3421, 24) for input Tensor(\"masking_4_input:0\", shape=(None, 3421, 24), dtype=float32), but it was called on an input with incompatible shape (None, 854, 24).\n",
      "18/18 [==============================] - 0s 16ms/step - loss: 0.0121\n"
     ]
    },
    {
     "data": {
      "text/plain": [
       "0.012095212936401367"
      ]
     },
     "execution_count": 47,
     "metadata": {
      "tags": []
     },
     "output_type": "execute_result"
    }
   ],
   "source": [
    "#Out of sample test\n",
    "model_0.evaluate(X_test,y_test)"
   ]
  },
  {
   "cell_type": "code",
   "execution_count": 48,
   "metadata": {
    "colab": {
     "base_uri": "https://localhost:8080/"
    },
    "id": "xzU61acCUC73",
    "outputId": "bb0e7934-5cb2-4ad0-c813-0185c20e57d4"
   },
   "outputs": [
    {
     "name": "stdout",
     "output_type": "stream",
     "text": [
      "WARNING:tensorflow:Model was constructed with shape (None, 3421, 24) for input Tensor(\"masking_4_input:0\", shape=(None, 3421, 24), dtype=float32), but it was called on an input with incompatible shape (None, 854, 24).\n"
     ]
    }
   ],
   "source": [
    "y_pred = model_0.predict(X_test)\n",
    "y_pred=y_pred.reshape(555)"
   ]
  },
  {
   "cell_type": "code",
   "execution_count": 49,
   "metadata": {
    "colab": {
     "base_uri": "https://localhost:8080/"
    },
    "id": "kaxMwF3QeoFx",
    "outputId": "e444ba67-7825-483a-a847-029dc606eb97"
   },
   "outputs": [
    {
     "data": {
      "text/plain": [
       "array([ 0.12307434,  0.12701735,  0.09629999,  0.09929897, -0.00174616,\n",
       "        0.16140404,  0.1124144 ,  0.1169304 ,  0.07760195,  0.10729477,\n",
       "        0.10335638,  0.10854259,  0.1045492 ,  0.10839787,  0.10868203,\n",
       "        0.10943803,  0.11006623,  0.11077668,  0.1060045 ,  0.1015996 ,\n",
       "        0.10781089,  0.10685042,  0.10096414,  0.12401594,  0.11912606,\n",
       "        0.13055186,  0.14289856,  0.13985188,  0.13070266,  0.12875663,\n",
       "        0.11430652,  0.14415103,  0.09595206,  0.07953989,  0.07848401,\n",
       "        0.06103887,  0.0438544 ,  0.01756965,  0.00746842,  0.01641853,\n",
       "       -0.00399624, -0.0252877 , -0.00402421,  0.0086021 ,  0.01651056,\n",
       "        0.05462757,  0.07217483,  0.06691386,  0.06414735,  0.06269614,\n",
       "        0.02321824,  0.0025962 ,  0.01773153,  0.01370379,  0.00334857,\n",
       "        0.02874518,  0.02561842,  0.03796056,  0.03040609,  0.00757003,\n",
       "        0.02311877,  0.01338272, -0.02949039, -0.00394335,  0.00759219,\n",
       "        0.02423616,  0.02123803,  0.01448466,  0.00062469,  0.03576303,\n",
       "        0.00151234,  0.02339598,  0.00128614,  0.06015694,  0.0699242 ,\n",
       "        0.07228418,  0.07970551,  0.07716634,  0.04555124,  0.07907774,\n",
       "        0.08668195,  0.08670838,  0.0672776 ,  0.10208936,  0.09782951,\n",
       "        0.10015497,  0.09262459,  0.09414388,  0.09270686,  0.09241083,\n",
       "        0.09183054,  0.09143246,  0.09480242,  0.10168584,  0.09724729,\n",
       "        0.09548442,  0.08865602,  0.04772343,  0.04877926,  0.0190548 ,\n",
       "        0.04154813,  0.1043703 ,  0.09130657,  0.0168677 ,  0.09558831,\n",
       "       -0.00338751,  0.09838844,  0.09211721,  0.04131028,  0.06656754,\n",
       "        0.06954178,  0.07464333,  0.08864039,  0.05756883,  0.09035199,\n",
       "        0.08209398,  0.09231044,  0.08675918,  0.08511815,  0.11157539,\n",
       "        0.05823565,  0.07370815,  0.0570452 ,  0.11770521,  0.02985922,\n",
       "        0.10990607,  0.08460987,  0.0946127 ,  0.0997835 ,  0.10466781,\n",
       "        0.10377866,  0.09974058,  0.10005249,  0.10045558,  0.06872633,\n",
       "        0.10517504,  0.09971046,  0.10387672,  0.10114519,  0.09986018,\n",
       "        0.09894171,  0.10351515,  0.09849521,  0.10639505,  0.10425111,\n",
       "        0.10279737,  0.09915637,  0.07767518,  0.11030304,  0.10372439,\n",
       "        0.10813607,  0.06445209,  0.1127615 ,  0.07032242,  0.08636795,\n",
       "        0.08408643,  0.08613615,  0.1090209 ,  0.10555385,  0.0835486 ,\n",
       "        0.10553119,  0.10104492,  0.10538872,  0.10344339,  0.11374637,\n",
       "        0.10620868,  0.07417253,  0.10801928,  0.05077793,  0.10514955,\n",
       "        0.10507506,  0.09930757,  0.09688916,  0.05399235,  0.06134767,\n",
       "        0.07097447,  0.1098638 ,  0.10571657,  0.10405242,  0.0188178 ,\n",
       "        0.0376624 ,  0.08721421,  0.09476524,  0.12663542,  0.08996033,\n",
       "        0.09845471,  0.08125228,  0.08957122,  0.09652288,  0.07770313,\n",
       "        0.08063632,  0.09549096,  0.09889635,  0.08605567,  0.11305046,\n",
       "        0.1114183 ,  0.10353577,  0.0775599 ,  0.1109592 ,  0.10528663,\n",
       "        0.06956372,  0.10768297,  0.12326279,  0.1000418 , -0.02575647,\n",
       "        0.13252255,  0.09652664,  0.11555683,  0.10397164,  0.10509432,\n",
       "        0.11196507,  0.07743759, -0.00485516, -0.04251749,  0.03391257,\n",
       "       -0.04755401,  0.05853602,  0.06469226,  0.06987342,  0.01720921,\n",
       "        0.10834404,  0.06966361,  0.09762312,  0.10726223,  0.09983734,\n",
       "        0.07289181,  0.10076168,  0.09212439,  0.10196012,  0.1050802 ,\n",
       "        0.05021693,  0.04936048,  0.11334721,  0.07464441,  0.11173852,\n",
       "        0.07292361,  0.0799429 ,  0.06948611,  0.08959828,  0.06972498,\n",
       "        0.09095768,  0.08283509,  0.110305  ,  0.10331706,  0.06902803,\n",
       "        0.09941822,  0.09170382,  0.12120091,  0.10384546,  0.09067442,\n",
       "        0.12362775,  0.1275377 ,  0.13271952,  0.13991633,  0.08332562,\n",
       "        0.09464889,  0.10766038,  0.1768789 ,  0.13475426,  0.15262733,\n",
       "        0.13399187,  0.14535826,  0.11191509,  0.17318319,  0.14185056,\n",
       "        0.1424813 ,  0.13638024,  0.09922347,  0.09009156,  0.1346585 ,\n",
       "        0.10520236,  0.06583433,  0.10304287,  0.06573689,  0.07651255,\n",
       "        0.04938092,  0.11199933,  0.06850652,  0.06829457,  0.09499358,\n",
       "        0.09121623,  0.0485653 ,  0.13221689,  0.10933547,  0.07790986,\n",
       "        0.12102932,  0.09926379,  0.11508679,  0.0578711 ,  0.10323541,\n",
       "        0.04712486,  0.02884054,  0.04855685,  0.03604214,  0.05794076,\n",
       "       -0.0077013 ,  0.06388133,  0.04485624,  0.05084744,  0.0533366 ,\n",
       "        0.06037896,  0.09233313,  0.02900035,  0.05505555,  0.03619247,\n",
       "        0.01841695,  0.05950999,  0.0197247 ,  0.07458697,  0.07086653,\n",
       "        0.05154153,  0.05604924,  0.07382029,  0.0779312 ,  0.10192163,\n",
       "        0.03719028,  0.09898849,  0.12728792,  0.11405674,  0.12064672,\n",
       "        0.10221989,  0.11036568,  0.08252452,  0.09669623,  0.08627667,\n",
       "        0.03746074,  0.10932037,  0.06159029,  0.08209714,  0.09025215,\n",
       "        0.12392136,  0.07424147,  0.14710219,  0.1288594 ,  0.14269084,\n",
       "        0.13571887,  0.13838522,  0.15391785,  0.1420883 ,  0.13128693,\n",
       "        0.15462604,  0.14681335,  0.12735032,  0.16339898,  0.18847297,\n",
       "        0.09423719,  0.14647484,  0.07385915,  0.12819843,  0.16633654,\n",
       "        0.0547427 ,  0.12388954,  0.0873012 ,  0.07329088,  0.05512832,\n",
       "        0.07113516,  0.09782051,  0.07972314,  0.07084821,  0.04403028,\n",
       "        0.09432878,  0.06803367,  0.08306612,  0.0621594 ,  0.07027987,\n",
       "        0.08812197,  0.08444896,  0.06766828,  0.07419454,  0.07456684,\n",
       "        0.09317408,  0.08814163,  0.08844922,  0.08790834,  0.08774707,\n",
       "        0.08495687,  0.08210991,  0.08411833,  0.07112403,  0.08730963,\n",
       "        0.10513038,  0.11921544,  0.11554483,  0.10136318,  0.05551501,\n",
       "        0.11750118,  0.11086987,  0.12057871,  0.11188244,  0.11887222,\n",
       "        0.18593916,  0.11901128,  0.10992079,  0.11589302,  0.09783503,\n",
       "        0.07477132,  0.10979519,  0.08437896,  0.07539031,  0.11004499,\n",
       "        0.08690657,  0.0868209 ,  0.08193275,  0.11082301,  0.10399776,\n",
       "        0.10676457,  0.14189266,  0.14297685,  0.11673597,  0.11298677,\n",
       "        0.13707098,  0.13102424,  0.13283926,  0.09379596,  0.12008507,\n",
       "        0.06861211,  0.14921701,  0.09198454,  0.10501082,  0.07534692,\n",
       "        0.09716763,  0.13329908,  0.12568782,  0.12949334, -0.02136154,\n",
       "        0.0911328 ,  0.121217  ,  0.09267804,  0.13529943,  0.14286402,\n",
       "        0.10084131,  0.14599748,  0.12659551,  0.10604341,  0.15340781,\n",
       "        0.08068252,  0.13762653,  0.11147375,  0.12148046,  0.10789082,\n",
       "        0.12625432,  0.12888372,  0.09643157,  0.10919531,  0.10197148,\n",
       "        0.10338005,  0.08536819,  0.1153259 ,  0.0888485 ,  0.10815547,\n",
       "        0.08797582,  0.10701972,  0.08440953,  0.08758186,  0.07636387,\n",
       "        0.0624861 ,  0.08756106,  0.08054451,  0.08005322,  0.07848169,\n",
       "        0.0775414 ,  0.07668785,  0.07600792,  0.07543454,  0.06604829,\n",
       "        0.08860604,  0.06206815,  0.06877793,  0.0525142 ,  0.12860885,\n",
       "        0.13137843,  0.13020825,  0.152789  ,  0.18356155,  0.17341125,\n",
       "        0.18417293,  0.20838825,  0.17113328,  0.14331108,  0.18021135,\n",
       "        0.15461376,  0.16681124,  0.16375893,  0.22603366,  0.21893327,\n",
       "        0.20469403,  0.20995711,  0.20868395,  0.23041777,  0.23143588,\n",
       "        0.23140842,  0.20857349,  0.23706159,  0.2315855 ,  0.23216721,\n",
       "        0.23043475,  0.22780749,  0.22336969,  0.21726471,  0.21261504,\n",
       "        0.20116721,  0.19914207,  0.19310752,  0.18952185,  0.17678483,\n",
       "        0.17911135,  0.1743909 ,  0.15682518,  0.16249487,  0.16416591,\n",
       "        0.16579266,  0.16474704,  0.1433194 ,  0.15220758,  0.13819388,\n",
       "        0.12742776,  0.09627599,  0.10582644,  0.07564079,  0.10064188,\n",
       "        0.02417522,  0.00094098,  0.11997881,  0.0606747 ,  0.05846018,\n",
       "        0.07556054,  0.06013409,  0.06005981,  0.05054035,  0.09547523,\n",
       "        0.08773513,  0.12641999,  0.11937174,  0.11344742,  0.07166839,\n",
       "        0.05093585,  0.09830081,  0.06295462,  0.08084653,  0.10156418,\n",
       "        0.12620246,  0.12688461,  0.1512694 ,  0.14488958,  0.16181125,\n",
       "        0.1837407 ,  0.17669487,  0.213048  ,  0.20895627,  0.21211801,\n",
       "        0.19342233,  0.23265956,  0.22652975,  0.21410856,  0.23148397],\n",
       "      dtype=float32)"
      ]
     },
     "execution_count": 49,
     "metadata": {
      "tags": []
     },
     "output_type": "execute_result"
    }
   ],
   "source": [
    "y_pred\n"
   ]
  },
  {
   "cell_type": "code",
   "execution_count": 50,
   "metadata": {
    "colab": {
     "base_uri": "https://localhost:8080/",
     "height": 349
    },
    "id": "XKbCe5QgDW7r",
    "outputId": "b81a6c78-f87c-4a0d-dc32-20dcec546018"
   },
   "outputs": [
    {
     "data": {
      "text/plain": [
       "<Figure size 864x288 with 0 Axes>"
      ]
     },
     "execution_count": 50,
     "metadata": {
      "tags": []
     },
     "output_type": "execute_result"
    },
    {
     "data": {
      "text/plain": [
       "<matplotlib.axes._subplots.AxesSubplot at 0x7f5a49166cc0>"
      ]
     },
     "execution_count": 50,
     "metadata": {
      "tags": []
     },
     "output_type": "execute_result"
    },
    {
     "data": {
      "text/plain": [
       "[<matplotlib.lines.Line2D at 0x7f5a4922f550>]"
      ]
     },
     "execution_count": 50,
     "metadata": {
      "tags": []
     },
     "output_type": "execute_result"
    },
    {
     "data": {
      "text/plain": [
       "Text(0.5, 1.0, 'True value for return')"
      ]
     },
     "execution_count": 50,
     "metadata": {
      "tags": []
     },
     "output_type": "execute_result"
    },
    {
     "data": {
      "text/plain": [
       "<matplotlib.axes._subplots.AxesSubplot at 0x7f5a4921ac50>"
      ]
     },
     "execution_count": 50,
     "metadata": {
      "tags": []
     },
     "output_type": "execute_result"
    },
    {
     "data": {
      "text/plain": [
       "[<matplotlib.lines.Line2D at 0x7f5a4916ed68>]"
      ]
     },
     "execution_count": 50,
     "metadata": {
      "tags": []
     },
     "output_type": "execute_result"
    },
    {
     "data": {
      "text/plain": [
       "Text(0.5, 1.0, 'Predicted value for return')"
      ]
     },
     "execution_count": 50,
     "metadata": {
      "tags": []
     },
     "output_type": "execute_result"
    },
    {
     "data": {
      "image/png": "[encoded data removed]",
      "text/plain": [
       "<Figure size 864x288 with 2 Axes>"
      ]
     },
     "metadata": {
      "needs_background": "light",
      "tags": []
     },
     "output_type": "display_data"
    }
   ],
   "source": [
    "#Plot the true value and the predicted value\n",
    "plt.figure(figsize=(12, 4))\n",
    "plt.subplot(1,2,1)\n",
    "plt.plot(y_test)\n",
    "plt.title('True value for return')\n",
    "plt.subplot(1,2,2)\n",
    "plt.plot(y_pred)\n",
    "plt.title('Predicted value for return')"
   ]
  },
  {
   "cell_type": "markdown",
   "metadata": {
    "id": "9Qhr2MK5I7s2"
   },
   "source": [
    "- Trayning time is so long.\n",
    "- Out of sample performance is not very good.\n",
    "- In sample loss is relatively good."
   ]
  },
  {
   "cell_type": "markdown",
   "metadata": {
    "id": "OjaDMeavIiHD"
   },
   "source": [
    "### Model 1 - Add a cnn layer\n"
   ]
  },
  {
   "cell_type": "code",
   "execution_count": 51,
   "metadata": {
    "colab": {
     "base_uri": "https://localhost:8080/"
    },
    "id": "SPAoqoCHm6-b",
    "outputId": "f88fc4f8-99a5-4b26-a3fa-de957367fcaa"
   },
   "outputs": [
    {
     "name": "stdout",
     "output_type": "stream",
     "text": [
      "Epoch 1/10\n",
      "32/32 [==============================] - 5s 153ms/step - loss: 0.0052\n",
      "Epoch 2/10\n",
      "32/32 [==============================] - 5s 152ms/step - loss: 0.0011\n",
      "Epoch 3/10\n",
      "32/32 [==============================] - 5s 152ms/step - loss: 9.6412e-04\n",
      "Epoch 4/10\n",
      "32/32 [==============================] - 5s 151ms/step - loss: 8.4022e-04\n",
      "Epoch 5/10\n",
      "32/32 [==============================] - 5s 152ms/step - loss: 7.2779e-04\n",
      "Epoch 6/10\n",
      "32/32 [==============================] - 5s 151ms/step - loss: 7.1801e-04\n",
      "Epoch 7/10\n",
      "32/32 [==============================] - 5s 152ms/step - loss: 6.9881e-04\n"
     ]
    },
    {
     "data": {
      "text/plain": [
       "<tensorflow.python.keras.callbacks.History at 0x7f5a49e84630>"
      ]
     },
     "execution_count": 51,
     "metadata": {
      "tags": []
     },
     "output_type": "execute_result"
    }
   ],
   "source": [
    "def model_1():\n",
    "  model = Sequential()\n",
    "  model.add(Masking(mask_value=0,input_shape=X_train[-1].shape))\n",
    "  model.add(Conv1D(16, 3,padding='same'))\n",
    "  model.add(LSTM(10, activation='tanh', return_sequences=False))\n",
    "  model.add(Dense(1,activation='tanh'))\n",
    "  model.add(Dropout(0.2))\n",
    "  return(model)\n",
    "\n",
    "model_1=model_1()\n",
    "model_1.compile(optimizer=RMSprop(lr=0.01), loss='mean_squared_error')\n",
    "model_1.fit(X_train, y_train, batch_size=100, epochs=10,callbacks=[callbacks])"
   ]
  },
  {
   "cell_type": "code",
   "execution_count": 52,
   "metadata": {
    "colab": {
     "base_uri": "https://localhost:8080/"
    },
    "id": "HbNwe-BDnjWz",
    "outputId": "448361f7-f1ed-410d-bffd-7a72fc380827"
   },
   "outputs": [
    {
     "name": "stdout",
     "output_type": "stream",
     "text": [
      "WARNING:tensorflow:Model was constructed with shape (None, 3421, 24) for input Tensor(\"masking_5_input:0\", shape=(None, 3421, 24), dtype=float32), but it was called on an input with incompatible shape (None, 854, 24).\n",
      "18/18 [==============================] - 0s 20ms/step - loss: 7.2180e-04\n"
     ]
    },
    {
     "data": {
      "text/plain": [
       "0.0007218009559437633"
      ]
     },
     "execution_count": 52,
     "metadata": {
      "tags": []
     },
     "output_type": "execute_result"
    }
   ],
   "source": [
    "model_1.evaluate(X_test,y_test)"
   ]
  },
  {
   "cell_type": "code",
   "execution_count": 53,
   "metadata": {
    "colab": {
     "base_uri": "https://localhost:8080/"
    },
    "id": "yd7b-Sq2nxoi",
    "outputId": "33308c86-7527-43ee-8d92-f4a1a849ebb0"
   },
   "outputs": [
    {
     "name": "stdout",
     "output_type": "stream",
     "text": [
      "WARNING:tensorflow:Model was constructed with shape (None, 3421, 24) for input Tensor(\"masking_5_input:0\", shape=(None, 3421, 24), dtype=float32), but it was called on an input with incompatible shape (None, 854, 24).\n"
     ]
    },
    {
     "data": {
      "text/plain": [
       "array([ 0.02214693,  0.02214693,  0.02214693,  0.02214693,  0.02214693,\n",
       "        0.02214693,  0.02214693,  0.02214693,  0.02214693,  0.02214693,\n",
       "        0.02214693,  0.02214693,  0.02214693,  0.02214693,  0.02214693,\n",
       "        0.02214693,  0.02214693,  0.02214693,  0.02214693,  0.02214693,\n",
       "        0.02214693,  0.02214693,  0.02214693,  0.02214693,  0.02214693,\n",
       "        0.02214693,  0.02214693,  0.02214693,  0.02214693,  0.02214693,\n",
       "        0.02214693,  0.02214693,  0.02214693,  0.02214693,  0.02214693,\n",
       "        0.02214693,  0.02214693,  0.02214693,  0.02214693,  0.02214693,\n",
       "        0.02214693,  0.02214693,  0.02214693,  0.02214693,  0.02214693,\n",
       "        0.02214693,  0.02214693,  0.02214693,  0.02214693,  0.02214693,\n",
       "        0.02214693,  0.02214693,  0.02214693,  0.02214693,  0.02214693,\n",
       "        0.02214693,  0.02214693,  0.02214693,  0.02214693,  0.02214693,\n",
       "        0.02214693,  0.02214693,  0.02214693,  0.02214693,  0.02214693,\n",
       "        0.02214693,  0.02214693,  0.02214693,  0.02214693,  0.02214693,\n",
       "        0.02214693,  0.02214693,  0.02214693,  0.02214693,  0.02214693,\n",
       "        0.02214693,  0.02214693,  0.02214693,  0.02214693,  0.02214693,\n",
       "        0.02214693,  0.02214693,  0.02214693,  0.02214693,  0.02214693,\n",
       "        0.02214693,  0.02214693,  0.02214693,  0.02214693,  0.02214693,\n",
       "        0.02214693,  0.02214693,  0.02214693,  0.02214693,  0.02214693,\n",
       "        0.02214693,  0.02214693,  0.02214693,  0.02214693,  0.02214693,\n",
       "        0.02214693,  0.02214693,  0.02214693,  0.02214693,  0.02214693,\n",
       "        0.02214693,  0.02214693,  0.02214693,  0.02214693,  0.02214693,\n",
       "        0.02214693,  0.02214693,  0.02214693,  0.02214693,  0.02214693,\n",
       "        0.02214693,  0.02214693,  0.02214693,  0.02214693,  0.02214693,\n",
       "        0.02214693,  0.02214693,  0.02214693,  0.02214693,  0.02214693,\n",
       "        0.02214693,  0.02214693,  0.02214693,  0.02214693,  0.02214693,\n",
       "        0.02214693,  0.02214693,  0.02214693,  0.02214693,  0.02214693,\n",
       "        0.02214693,  0.02214693,  0.02214693,  0.02214693,  0.02214693,\n",
       "        0.02214693,  0.02214693,  0.02214693,  0.02214693,  0.02214693,\n",
       "        0.02214693,  0.02214693,  0.02214693,  0.02214693,  0.02214693,\n",
       "        0.02214693,  0.02214693,  0.02214693,  0.02214693,  0.02214693,\n",
       "        0.02214693,  0.02214693,  0.02214693,  0.02214693,  0.02214693,\n",
       "        0.02214693,  0.02214693,  0.02214693,  0.02214693,  0.02214693,\n",
       "        0.02214693,  0.02214693,  0.02214693,  0.02214693,  0.02214693,\n",
       "        0.02214693,  0.02214693,  0.02214693,  0.02214693,  0.02214693,\n",
       "        0.02214693,  0.02214693,  0.02214693,  0.02214693,  0.02214693,\n",
       "        0.02214693,  0.02214693,  0.02214693,  0.02214693,  0.02214693,\n",
       "        0.02214693,  0.02214693,  0.02214693,  0.02214693,  0.02214693,\n",
       "        0.02214693,  0.02214693,  0.02214693,  0.02214693,  0.02214693,\n",
       "        0.02214693,  0.02214693,  0.02214693,  0.02214693,  0.02214693,\n",
       "        0.02214693,  0.02214693,  0.02214693,  0.02214693,  0.02214693,\n",
       "        0.02214693,  0.02214693,  0.02214693,  0.02214693,  0.02214693,\n",
       "        0.02214693,  0.02214693,  0.02214693,  0.02214693,  0.02214693,\n",
       "        0.02214693,  0.02214693,  0.02214693,  0.02214693,  0.02214693,\n",
       "        0.02214693,  0.02214693,  0.02214693,  0.02214693,  0.02214693,\n",
       "        0.02214693,  0.02214693,  0.02214693,  0.02214693,  0.02214693,\n",
       "        0.02214693,  0.02214693,  0.02214693,  0.02214693,  0.02214693,\n",
       "        0.02214693,  0.02214693,  0.02214693,  0.02214693,  0.02214693,\n",
       "        0.02214693,  0.02214693,  0.02214693,  0.02214693,  0.02214693,\n",
       "        0.02214693,  0.02214693,  0.02214693,  0.02214693,  0.02214693,\n",
       "        0.02214693,  0.02214693,  0.02214693,  0.02214693,  0.02214693,\n",
       "        0.02214693,  0.02214693,  0.02214693,  0.02214693,  0.02214693,\n",
       "        0.02214693,  0.02214693,  0.02214693,  0.02214693,  0.02214693,\n",
       "        0.02214693,  0.02214693,  0.02214693,  0.02214693,  0.02214693,\n",
       "        0.02214693,  0.02214693,  0.02214693,  0.02214693,  0.02214693,\n",
       "        0.02214693,  0.02214693,  0.02214693,  0.02214693,  0.02214693,\n",
       "        0.02214693,  0.02214693,  0.02214693,  0.02214693,  0.02214693,\n",
       "        0.02214693,  0.02214693,  0.02214693,  0.02214693,  0.02214693,\n",
       "        0.02214693,  0.02214693,  0.02214693,  0.02214693,  0.02214693,\n",
       "        0.02214693,  0.02214693,  0.02214693,  0.02214693,  0.02214693,\n",
       "        0.02214693,  0.02214693,  0.02214693,  0.02214693,  0.02214693,\n",
       "        0.02214693,  0.02214693,  0.02214693,  0.02214693,  0.02214693,\n",
       "        0.02214693,  0.02214693,  0.02214693,  0.02214693,  0.02214693,\n",
       "        0.02214693,  0.02214693,  0.02214693,  0.02214693,  0.02214693,\n",
       "        0.02214693,  0.02214693,  0.02214693,  0.02214693,  0.02214693,\n",
       "        0.02214693,  0.02214693,  0.02214693,  0.02214693,  0.02214693,\n",
       "        0.02214693,  0.02214693,  0.02214693,  0.02214693,  0.02214693,\n",
       "        0.02214693,  0.02214693,  0.02214693,  0.02214693,  0.02214693,\n",
       "        0.02214693,  0.02214693,  0.02214693,  0.02214693,  0.02214693,\n",
       "        0.02214693,  0.02214693,  0.02214693,  0.02214693,  0.02214693,\n",
       "        0.02214693,  0.02214693,  0.02214693,  0.02214693,  0.02214693,\n",
       "        0.02214693,  0.02214693,  0.02214693,  0.02214693,  0.02214693,\n",
       "        0.02214693,  0.02214693,  0.02214693,  0.02214693,  0.02214693,\n",
       "        0.02214693,  0.02214693,  0.02214693,  0.02214693,  0.02214693,\n",
       "        0.02214693,  0.02214693,  0.02214693,  0.02214693,  0.02214693,\n",
       "        0.02214693,  0.02214693,  0.02214693,  0.02214693,  0.02214693,\n",
       "        0.02214693,  0.02214693,  0.02214693,  0.02214693,  0.02214693,\n",
       "        0.02214693,  0.02214693,  0.02214693,  0.02214693,  0.02214693,\n",
       "        0.02214693,  0.02214693,  0.02214693,  0.02214693,  0.02214693,\n",
       "        0.02214693,  0.02214693,  0.02214693,  0.02214693,  0.02214693,\n",
       "        0.02214693,  0.02214693,  0.02214693,  0.02214693,  0.02214693,\n",
       "        0.02214693,  0.02214693,  0.02214693,  0.02214693,  0.02214693,\n",
       "        0.02214693,  0.02214693,  0.02214693,  0.02214693,  0.02214693,\n",
       "        0.02214693,  0.02214693,  0.02214693,  0.02214693,  0.02214693,\n",
       "        0.02214693,  0.02214693,  0.02214693,  0.02214693,  0.02214693,\n",
       "        0.02214693,  0.02214693,  0.02214693,  0.02214693,  0.02214693,\n",
       "        0.02214693,  0.02214693,  0.02214693,  0.02214693,  0.02214693,\n",
       "        0.02214693,  0.02214693,  0.02214693,  0.02214693,  0.02214693,\n",
       "        0.02214693,  0.02214693,  0.02214693,  0.02214693,  0.02214693,\n",
       "        0.02214693,  0.02214693,  0.02214693,  0.02214693,  0.02214693,\n",
       "        0.02214693,  0.02214693,  0.02214693,  0.02214693,  0.02214693,\n",
       "        0.02214693,  0.02214693,  0.02214693,  0.02214693,  0.02214693,\n",
       "        0.02214693,  0.02214693,  0.02214693,  0.02214693,  0.02214693,\n",
       "        0.02214693,  0.02214693,  0.02214693,  0.02214693,  0.02214693,\n",
       "        0.02214693,  0.02214693,  0.02214693,  0.02214693,  0.02214693,\n",
       "        0.02214693,  0.02214693,  0.02214693,  0.02214693,  0.02214693,\n",
       "        0.02214693,  0.02214693,  0.02214693,  0.02214693,  0.02214693,\n",
       "        0.02214693,  0.02214693,  0.02214693,  0.02214693,  0.02214693,\n",
       "        0.02214693,  0.02214693,  0.02214693,  0.02214693,  0.02214693,\n",
       "        0.02214693,  0.02214693,  0.02214693,  0.02214693,  0.02214693,\n",
       "        0.02214694,  0.02214694,  0.02214694,  0.02214695,  0.02214695,\n",
       "        0.02214695,  0.02214695,  0.02214696,  0.02214696,  0.02214696,\n",
       "        0.02214695,  0.02214693,  0.0221469 ,  0.02214688,  0.02214684,\n",
       "        0.02214676,  0.02214661,  0.0221465 ,  0.02214624,  0.02214596,\n",
       "        0.02214509,  0.02214403,  0.0221441 ,  0.02214269,  0.02214078,\n",
       "        0.0221384 ,  0.02213627,  0.02213316,  0.02212869,  0.02212207,\n",
       "        0.02211277,  0.02209464,  0.02208714,  0.02206809,  0.02204435,\n",
       "        0.02200231,  0.02198996,  0.02195561,  0.02191334,  0.0218581 ,\n",
       "        0.02180068,  0.02173626,  0.02174204,  0.0216772 ,  0.02169819,\n",
       "        0.02187162,  0.02149255,  0.02133608,  0.02024498,  0.01677583,\n",
       "        0.00719936, -0.01059692, -0.06257355, -0.06277864, -0.04855847],\n",
       "      dtype=float32)"
      ]
     },
     "execution_count": 53,
     "metadata": {
      "tags": []
     },
     "output_type": "execute_result"
    }
   ],
   "source": [
    "y_pred = model_1.predict(X_test)\n",
    "y_pred=y_pred.reshape(555)\n",
    "y_pred"
   ]
  },
  {
   "cell_type": "code",
   "execution_count": 54,
   "metadata": {
    "colab": {
     "base_uri": "https://localhost:8080/",
     "height": 349
    },
    "id": "ogkkwLtp18w0",
    "outputId": "d1f00f44-aa5b-4c1d-f608-6e24d4722984"
   },
   "outputs": [
    {
     "data": {
      "text/plain": [
       "<Figure size 864x288 with 0 Axes>"
      ]
     },
     "execution_count": 54,
     "metadata": {
      "tags": []
     },
     "output_type": "execute_result"
    },
    {
     "data": {
      "text/plain": [
       "<matplotlib.axes._subplots.AxesSubplot at 0x7f5a4a8e5c50>"
      ]
     },
     "execution_count": 54,
     "metadata": {
      "tags": []
     },
     "output_type": "execute_result"
    },
    {
     "data": {
      "text/plain": [
       "[<matplotlib.lines.Line2D at 0x7f5a49d64048>]"
      ]
     },
     "execution_count": 54,
     "metadata": {
      "tags": []
     },
     "output_type": "execute_result"
    },
    {
     "data": {
      "text/plain": [
       "Text(0.5, 1.0, 'True value for return')"
      ]
     },
     "execution_count": 54,
     "metadata": {
      "tags": []
     },
     "output_type": "execute_result"
    },
    {
     "data": {
      "text/plain": [
       "<matplotlib.axes._subplots.AxesSubplot at 0x7f5a4a766748>"
      ]
     },
     "execution_count": 54,
     "metadata": {
      "tags": []
     },
     "output_type": "execute_result"
    },
    {
     "data": {
      "text/plain": [
       "[<matplotlib.lines.Line2D at 0x7f5a4a945940>]"
      ]
     },
     "execution_count": 54,
     "metadata": {
      "tags": []
     },
     "output_type": "execute_result"
    },
    {
     "data": {
      "text/plain": [
       "Text(0.5, 1.0, 'Predicted value for return')"
      ]
     },
     "execution_count": 54,
     "metadata": {
      "tags": []
     },
     "output_type": "execute_result"
    },
    {
     "data": {
      "image/png": "[encoded data removed]",
      "text/plain": [
       "<Figure size 864x288 with 2 Axes>"
      ]
     },
     "metadata": {
      "needs_background": "light",
      "tags": []
     },
     "output_type": "display_data"
    }
   ],
   "source": [
    "plt.figure(figsize=(12, 4))\n",
    "plt.subplot(1,2,1)\n",
    "plt.plot(y_test)\n",
    "plt.title('True value for return')\n",
    "plt.subplot(1,2,2)\n",
    "plt.plot(y_pred)\n",
    "plt.title('Predicted value for return')"
   ]
  },
  {
   "cell_type": "markdown",
   "metadata": {
    "id": "6tgcJaZSJZZF"
   },
   "source": [
    "- Prediction results are all the same\n",
    "- Out of sample loss is better."
   ]
  },
  {
   "cell_type": "markdown",
   "metadata": {
    "id": "nTvKniwqNbBn"
   },
   "source": [
    "### Model 2 - Add two cnn layers"
   ]
  },
  {
   "cell_type": "code",
   "execution_count": 55,
   "metadata": {
    "colab": {
     "base_uri": "https://localhost:8080/"
    },
    "id": "sccXUO6OGIMh",
    "outputId": "6dfcb51b-5c87-4014-a3a0-740be4c54a04"
   },
   "outputs": [
    {
     "name": "stdout",
     "output_type": "stream",
     "text": [
      "Epoch 1/10\n",
      "32/32 [==============================] - 5s 160ms/step - loss: 7.7538e-04\n",
      "Epoch 2/10\n",
      "32/32 [==============================] - 5s 160ms/step - loss: 6.4589e-04\n",
      "Epoch 3/10\n",
      "32/32 [==============================] - 5s 159ms/step - loss: 6.4589e-04\n",
      "Epoch 4/10\n",
      "32/32 [==============================] - 5s 161ms/step - loss: 6.4589e-04\n"
     ]
    },
    {
     "data": {
      "text/plain": [
       "<tensorflow.python.keras.callbacks.History at 0x7f5a4b524f60>"
      ]
     },
     "execution_count": 55,
     "metadata": {
      "tags": []
     },
     "output_type": "execute_result"
    }
   ],
   "source": [
    "def model_2():\n",
    "  model = Sequential()\n",
    "  model.add(Masking(mask_value=0,input_shape=X_train[-1].shape))\n",
    "  model.add(Conv1D(64, 3, activation='relu',padding='same'))\n",
    "  model.add(Conv1D(32, 3, activation='relu',padding='same'))\n",
    "  model.add(LSTM(10, activation='tanh', return_sequences=False))\n",
    "  model.add(Dense(1,activation='relu'))\n",
    "  model.add(Dropout(0.2))\n",
    "  return(model)\n",
    "\n",
    "model_2=model_2()\n",
    "model_2.compile(optimizer=RMSprop(lr=0.01), loss='mean_squared_error')\n",
    "model_2.fit(X_train, y_train, batch_size=100, epochs=10,callbacks=[callbacks])"
   ]
  },
  {
   "cell_type": "code",
   "execution_count": 56,
   "metadata": {
    "colab": {
     "base_uri": "https://localhost:8080/"
    },
    "id": "X1Wm3UHUEXle",
    "outputId": "6c9e9a49-667a-49a1-813a-84cb0f521d3c"
   },
   "outputs": [
    {
     "name": "stdout",
     "output_type": "stream",
     "text": [
      "WARNING:tensorflow:Model was constructed with shape (None, 3421, 24) for input Tensor(\"masking_6_input:0\", shape=(None, 3421, 24), dtype=float32), but it was called on an input with incompatible shape (None, 854, 24).\n",
      "18/18 [==============================] - 0s 20ms/step - loss: 2.4295e-04\n"
     ]
    },
    {
     "data": {
      "text/plain": [
       "0.00024295492039527744"
      ]
     },
     "execution_count": 56,
     "metadata": {
      "tags": []
     },
     "output_type": "execute_result"
    }
   ],
   "source": [
    "model_2.evaluate(X_test,y_test)"
   ]
  },
  {
   "cell_type": "code",
   "execution_count": 57,
   "metadata": {
    "colab": {
     "base_uri": "https://localhost:8080/"
    },
    "id": "SqQqA-82EiLP",
    "outputId": "02e4491b-2a46-47f0-97aa-7984398f1197"
   },
   "outputs": [
    {
     "name": "stdout",
     "output_type": "stream",
     "text": [
      "WARNING:tensorflow:Model was constructed with shape (None, 3421, 24) for input Tensor(\"masking_6_input:0\", shape=(None, 3421, 24), dtype=float32), but it was called on an input with incompatible shape (None, 854, 24).\n"
     ]
    },
    {
     "data": {
      "text/plain": [
       "array([0., 0., 0., 0., 0., 0., 0., 0., 0., 0., 0., 0., 0., 0., 0., 0., 0.,\n",
       "       0., 0., 0., 0., 0., 0., 0., 0., 0., 0., 0., 0., 0., 0., 0., 0., 0.,\n",
       "       0., 0., 0., 0., 0., 0., 0., 0., 0., 0., 0., 0., 0., 0., 0., 0., 0.,\n",
       "       0., 0., 0., 0., 0., 0., 0., 0., 0., 0., 0., 0., 0., 0., 0., 0., 0.,\n",
       "       0., 0., 0., 0., 0., 0., 0., 0., 0., 0., 0., 0., 0., 0., 0., 0., 0.,\n",
       "       0., 0., 0., 0., 0., 0., 0., 0., 0., 0., 0., 0., 0., 0., 0., 0., 0.,\n",
       "       0., 0., 0., 0., 0., 0., 0., 0., 0., 0., 0., 0., 0., 0., 0., 0., 0.,\n",
       "       0., 0., 0., 0., 0., 0., 0., 0., 0., 0., 0., 0., 0., 0., 0., 0., 0.,\n",
       "       0., 0., 0., 0., 0., 0., 0., 0., 0., 0., 0., 0., 0., 0., 0., 0., 0.,\n",
       "       0., 0., 0., 0., 0., 0., 0., 0., 0., 0., 0., 0., 0., 0., 0., 0., 0.,\n",
       "       0., 0., 0., 0., 0., 0., 0., 0., 0., 0., 0., 0., 0., 0., 0., 0., 0.,\n",
       "       0., 0., 0., 0., 0., 0., 0., 0., 0., 0., 0., 0., 0., 0., 0., 0., 0.,\n",
       "       0., 0., 0., 0., 0., 0., 0., 0., 0., 0., 0., 0., 0., 0., 0., 0., 0.,\n",
       "       0., 0., 0., 0., 0., 0., 0., 0., 0., 0., 0., 0., 0., 0., 0., 0., 0.,\n",
       "       0., 0., 0., 0., 0., 0., 0., 0., 0., 0., 0., 0., 0., 0., 0., 0., 0.,\n",
       "       0., 0., 0., 0., 0., 0., 0., 0., 0., 0., 0., 0., 0., 0., 0., 0., 0.,\n",
       "       0., 0., 0., 0., 0., 0., 0., 0., 0., 0., 0., 0., 0., 0., 0., 0., 0.,\n",
       "       0., 0., 0., 0., 0., 0., 0., 0., 0., 0., 0., 0., 0., 0., 0., 0., 0.,\n",
       "       0., 0., 0., 0., 0., 0., 0., 0., 0., 0., 0., 0., 0., 0., 0., 0., 0.,\n",
       "       0., 0., 0., 0., 0., 0., 0., 0., 0., 0., 0., 0., 0., 0., 0., 0., 0.,\n",
       "       0., 0., 0., 0., 0., 0., 0., 0., 0., 0., 0., 0., 0., 0., 0., 0., 0.,\n",
       "       0., 0., 0., 0., 0., 0., 0., 0., 0., 0., 0., 0., 0., 0., 0., 0., 0.,\n",
       "       0., 0., 0., 0., 0., 0., 0., 0., 0., 0., 0., 0., 0., 0., 0., 0., 0.,\n",
       "       0., 0., 0., 0., 0., 0., 0., 0., 0., 0., 0., 0., 0., 0., 0., 0., 0.,\n",
       "       0., 0., 0., 0., 0., 0., 0., 0., 0., 0., 0., 0., 0., 0., 0., 0., 0.,\n",
       "       0., 0., 0., 0., 0., 0., 0., 0., 0., 0., 0., 0., 0., 0., 0., 0., 0.,\n",
       "       0., 0., 0., 0., 0., 0., 0., 0., 0., 0., 0., 0., 0., 0., 0., 0., 0.,\n",
       "       0., 0., 0., 0., 0., 0., 0., 0., 0., 0., 0., 0., 0., 0., 0., 0., 0.,\n",
       "       0., 0., 0., 0., 0., 0., 0., 0., 0., 0., 0., 0., 0., 0., 0., 0., 0.,\n",
       "       0., 0., 0., 0., 0., 0., 0., 0., 0., 0., 0., 0., 0., 0., 0., 0., 0.,\n",
       "       0., 0., 0., 0., 0., 0., 0., 0., 0., 0., 0., 0., 0., 0., 0., 0., 0.,\n",
       "       0., 0., 0., 0., 0., 0., 0., 0., 0., 0., 0., 0., 0., 0., 0., 0., 0.,\n",
       "       0., 0., 0., 0., 0., 0., 0., 0., 0., 0., 0.], dtype=float32)"
      ]
     },
     "execution_count": 57,
     "metadata": {
      "tags": []
     },
     "output_type": "execute_result"
    }
   ],
   "source": [
    "y_pred = model_2.predict(X_test)\n",
    "y_pred=y_pred.reshape(555)\n",
    "y_pred"
   ]
  },
  {
   "cell_type": "markdown",
   "metadata": {
    "id": "5gKf4wHFNkLR"
   },
   "source": [
    "- Predicted results are all zero\n",
    "\n",
    "Also tried adding lstm layers, but the calculating time was so long."
   ]
  },
  {
   "cell_type": "markdown",
   "metadata": {
    "id": "XajUswcaN3sM"
   },
   "source": [
    "### Error Analysis\n",
    "\n",
    "- The out of sample loss for models are samll, but the returns either shifted from 0 or were all the same value or even zero.\n",
    "- The probable reasons for that might be the orginal returns are concentrated around the zero, so that the predctions of all zero values can give small loss, without obvious trend for return.\n",
    "- We can further change the features, such as using synthetical features like moving average to model."
   ]
  },
  {
   "cell_type": "markdown",
   "metadata": {
    "id": "-HLQOxatR2fP"
   },
   "source": [
    "# My Model"
   ]
  },
  {
   "cell_type": "code",
   "execution_count": 64,
   "metadata": {
    "colab": {
     "base_uri": "https://localhost:8080/"
    },
    "id": "59yKQsp0MgWx",
    "outputId": "d08bb8bf-162e-49c3-c275-247b4ac73b13"
   },
   "outputs": [
    {
     "name": "stdout",
     "output_type": "stream",
     "text": [
      "Directory ./final_model already exists, files will be over-written.\n",
      "Model saved in directory ./final_model; create an archive of this directory and submit with your assignment.\n"
     ]
    }
   ],
   "source": [
    "import os\n",
    "from tensorflow.keras.models import load_model\n",
    "\n",
    "modelName = \"final_model\"\n",
    "model_path = os.path.join('.', modelName)\n",
    "\n",
    "def saveModel(model, model_path): \n",
    "    try:\n",
    "        os.makedirs(model_path)\n",
    "    except OSError:\n",
    "        print(\"Directory {dir:s} already exists, files will be over-written.\".format(dir=model_path))\n",
    "        \n",
    "    # Save JSON config to disk\n",
    "    json_config = model.to_json()\n",
    "    with open(os.path.join(model_path, 'config.json'), 'w') as json_file:\n",
    "        json_file.write(json_config)\n",
    "    # Save weights to disk\n",
    "    model.save_weights(os.path.join(model_path, 'weights.h5'))\n",
    "    \n",
    "    print(\"Model saved in directory {dir:s}; create an archive of this directory and submit with your assignment.\".format(dir=model_path))\n",
    "    \n",
    "def loadModel(model_path):\n",
    "    # Reload the model from the 2 files we saved\n",
    "    with open(os.path.join(model_path, 'config.json')) as json_file:\n",
    "        json_config = json_file.read()\n",
    "    model = tf.keras.models.model_from_json(json_config)\n",
    "    model.load_weights(os.path.join(model_path, 'weights.h5'))\n",
    "    \n",
    "    return model\n",
    "\n",
    "def MyModel(test_dir, model_path):\n",
    "    # YOU MAY NOT change model after this statement !\n",
    "    model = loadModel(model_path)\n",
    "    \n",
    "    # It should run model to create an array of predictions; we initialize it to the empty array for convenience\n",
    "    predictions = []\n",
    "    \n",
    "    # We need to match your array of predictions with the examples you are predicting\n",
    "    # The array below (ids) should have a one-to-one correspondence and identify the example your are predicting\n",
    "    # For Bankruptcy: the Id column\n",
    "    # For Stock prediction: the date on which you are making a prediction\n",
    "    ids = []\n",
    "    \n",
    "    # YOUR CODE GOES HERE\n",
    "    #Get data\n",
    "    dateAttr='Dt'\n",
    "    globals()[\"AAPL\"] = pd.read_csv(os.path.join(test_dir, 'AAPL.csv'),index_col=dateAttr).drop(columns=['Div','Factor'])\n",
    "    globals()[\"INTC\"] = pd.read_csv(os.path.join(test_dir, 'INTC.csv'),index_col=dateAttr).drop(columns=['Div','Factor'])\n",
    "    globals()[\"MSFT\"] = pd.read_csv(os.path.join(test_dir, 'MSFT.csv'),index_col=dateAttr).drop(columns=['Div','Factor'])\n",
    "    globals()[\"XLK\"] = pd.read_csv(os.path.join(test_dir, 'XLK.csv'),index_col=dateAttr).drop(columns=['Div','Factor'])\n",
    "    company_list = [AAPL, INTC, MSFT, XLK]\n",
    "    company_name = [\"AAPL\",\"INTC\",\"MSFT\",\"XLK\"]\n",
    "    df = pd.concat(company_list, axis=1)\n",
    "    df=df.dropna()\n",
    "\n",
    "    #Prepare data\n",
    "    X=df.copy()\n",
    "    y=df.iloc[:,0].pct_change()\n",
    "    X=(X-train_data_mean)/train_data_std#Scale using train datasets\n",
    "\n",
    "    X_holdout=[]\n",
    "    for i in range(200):\n",
    "      X_holdout.append(X.iloc[:(X.shape[0]-200+i),:].values.tolist())\n",
    "    \n",
    "    X_holdout=np.array(X_holdout)\n",
    "    X_holdout=preprocess(X_holdout)\n",
    "  \n",
    "    y_holdout=y.iloc[(y.shape[0]-200):]\n",
    "\n",
    "    #Predict\n",
    "    predictions=model.predict(X_holdout)\n",
    "    ids=y_holdout.index\n",
    "    return predictions, ids\n",
    "\n",
    "# Assign to variable my_model the model that is your final model (the one  you will be evaluated on)\n",
    "my_model = model_0 # CHANGE None to your model !\n",
    "\n",
    "saveModel(my_model, model_path)"
   ]
  },
  {
   "cell_type": "code",
   "execution_count": 65,
   "metadata": {
    "colab": {
     "base_uri": "https://localhost:8080/"
    },
    "id": "Yu85kJzeSKF0",
    "outputId": "4ddd048b-63e7-46de-a0f8-bf9a7ca91ec5"
   },
   "outputs": [
    {
     "name": "stdout",
     "output_type": "stream",
     "text": [
      "WARNING:tensorflow:Model was constructed with shape (None, 3421, 24) for input Tensor(\"masking_4_input_3:0\", shape=(None, 3421, 24), dtype=float32), but it was called on an input with incompatible shape (None, 4276, 24).\n"
     ]
    }
   ],
   "source": [
    "holdout_dir = os.path.join(\"gdrive\", \"My Drive\", \"Data\", \"holdout\")\n",
    "predicts = MyModel(holdout_dir, model_path)"
   ]
  },
  {
   "cell_type": "code",
   "execution_count": 70,
   "metadata": {
    "colab": {
     "base_uri": "https://localhost:8080/"
    },
    "id": "kQqjni0vSK5I",
    "outputId": "d23b74b6-6599-4c0c-b7d7-1b5311010aca"
   },
   "outputs": [
    {
     "name": "stdout",
     "output_type": "stream",
     "text": [
      "Done\n"
     ]
    }
   ],
   "source": [
    "print(\"Done\")"
   ]
  },
  {
   "cell_type": "code",
   "execution_count": null,
   "metadata": {
    "id": "XJwHlrov4gjg"
   },
   "outputs": [],
   "source": []
  }
 ],
 "metadata": {
  "accelerator": "GPU",
  "colab": {
   "collapsed_sections": [],
   "name": "Stock Prediction.ipynb",
   "provenance": [],
   "toc_visible": true
  },
  "kernelspec": {
   "display_name": "Python 3",
   "language": "python",
   "name": "python3"
  },
  "language_info": {
   "codemirror_mode": {
    "name": "ipython",
    "version": 3
   },
   "file_extension": ".py",
   "mimetype": "text/x-python",
   "name": "python",
   "nbconvert_exporter": "python",
   "pygments_lexer": "ipython3",
   "version": "3.8.3"
  }
 },
 "nbformat": 4,
 "nbformat_minor": 1
}
